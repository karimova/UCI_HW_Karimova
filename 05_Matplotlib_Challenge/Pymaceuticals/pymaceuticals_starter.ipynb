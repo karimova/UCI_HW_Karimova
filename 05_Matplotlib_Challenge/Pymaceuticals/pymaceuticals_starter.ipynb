{
 "cells": [
  {
   "cell_type": "markdown",
   "metadata": {},
   "source": [
    "## Observations and Insights "
   ]
  },
  {
   "cell_type": "markdown",
   "metadata": {},
   "source": []
  },
  {
   "cell_type": "code",
   "execution_count": 82,
   "metadata": {},
   "outputs": [
    {
     "data": {
      "text/html": [
       "<div>\n",
       "<style scoped>\n",
       "    .dataframe tbody tr th:only-of-type {\n",
       "        vertical-align: middle;\n",
       "    }\n",
       "\n",
       "    .dataframe tbody tr th {\n",
       "        vertical-align: top;\n",
       "    }\n",
       "\n",
       "    .dataframe thead th {\n",
       "        text-align: right;\n",
       "    }\n",
       "</style>\n",
       "<table border=\"1\" class=\"dataframe\">\n",
       "  <thead>\n",
       "    <tr style=\"text-align: right;\">\n",
       "      <th></th>\n",
       "      <th>Mouse ID</th>\n",
       "      <th>Timepoint</th>\n",
       "      <th>Tumor Volume (mm3)</th>\n",
       "      <th>Metastatic Sites</th>\n",
       "      <th>Drug Regimen</th>\n",
       "      <th>Sex</th>\n",
       "      <th>Age_months</th>\n",
       "      <th>Weight (g)</th>\n",
       "    </tr>\n",
       "  </thead>\n",
       "  <tbody>\n",
       "    <tr>\n",
       "      <th>0</th>\n",
       "      <td>b128</td>\n",
       "      <td>0</td>\n",
       "      <td>45.000000</td>\n",
       "      <td>0</td>\n",
       "      <td>Capomulin</td>\n",
       "      <td>Female</td>\n",
       "      <td>9</td>\n",
       "      <td>22</td>\n",
       "    </tr>\n",
       "    <tr>\n",
       "      <th>1</th>\n",
       "      <td>b128</td>\n",
       "      <td>5</td>\n",
       "      <td>45.651331</td>\n",
       "      <td>0</td>\n",
       "      <td>Capomulin</td>\n",
       "      <td>Female</td>\n",
       "      <td>9</td>\n",
       "      <td>22</td>\n",
       "    </tr>\n",
       "    <tr>\n",
       "      <th>2</th>\n",
       "      <td>b128</td>\n",
       "      <td>10</td>\n",
       "      <td>43.270852</td>\n",
       "      <td>0</td>\n",
       "      <td>Capomulin</td>\n",
       "      <td>Female</td>\n",
       "      <td>9</td>\n",
       "      <td>22</td>\n",
       "    </tr>\n",
       "    <tr>\n",
       "      <th>3</th>\n",
       "      <td>b128</td>\n",
       "      <td>15</td>\n",
       "      <td>43.784893</td>\n",
       "      <td>0</td>\n",
       "      <td>Capomulin</td>\n",
       "      <td>Female</td>\n",
       "      <td>9</td>\n",
       "      <td>22</td>\n",
       "    </tr>\n",
       "    <tr>\n",
       "      <th>4</th>\n",
       "      <td>b128</td>\n",
       "      <td>20</td>\n",
       "      <td>42.731552</td>\n",
       "      <td>0</td>\n",
       "      <td>Capomulin</td>\n",
       "      <td>Female</td>\n",
       "      <td>9</td>\n",
       "      <td>22</td>\n",
       "    </tr>\n",
       "  </tbody>\n",
       "</table>\n",
       "</div>"
      ],
      "text/plain": [
       "  Mouse ID  Timepoint  Tumor Volume (mm3)  Metastatic Sites Drug Regimen  \\\n",
       "0     b128          0           45.000000                 0    Capomulin   \n",
       "1     b128          5           45.651331                 0    Capomulin   \n",
       "2     b128         10           43.270852                 0    Capomulin   \n",
       "3     b128         15           43.784893                 0    Capomulin   \n",
       "4     b128         20           42.731552                 0    Capomulin   \n",
       "\n",
       "      Sex  Age_months  Weight (g)  \n",
       "0  Female           9          22  \n",
       "1  Female           9          22  \n",
       "2  Female           9          22  \n",
       "3  Female           9          22  \n",
       "4  Female           9          22  "
      ]
     },
     "execution_count": 82,
     "metadata": {},
     "output_type": "execute_result"
    }
   ],
   "source": [
    "# Dependencies and Setup\n",
    "import matplotlib.pyplot as plt\n",
    "import pandas as pd\n",
    "import scipy.stats as st\n",
    "\n",
    "# Study data files\n",
    "mouse_metadata_path = \"data/Mouse_metadata.csv\"\n",
    "study_results_path = \"data/Study_results.csv\"\n",
    "\n",
    "# Read the mouse data and the study results\n",
    "mouse_metadata = pd.read_csv(mouse_metadata_path)\n",
    "study_results = pd.read_csv(study_results_path)\n",
    "\n",
    "# Combine the data into a single dataset\n",
    "merge_data_df = pd.merge(study_results,mouse_metadata, on=\"Mouse ID\")\n",
    "\n",
    "# Display the data table for preview\n",
    "merge_data_df.head()"
   ]
  },
  {
   "cell_type": "code",
   "execution_count": 135,
   "metadata": {},
   "outputs": [
    {
     "data": {
      "text/plain": [
       "249"
      ]
     },
     "execution_count": 135,
     "metadata": {},
     "output_type": "execute_result"
    }
   ],
   "source": [
    "# Checking the number of mice.\n",
    "merge_data_df[\"Mouse ID\"].value_counts().count()\n"
   ]
  },
  {
   "cell_type": "code",
   "execution_count": 136,
   "metadata": {},
   "outputs": [
    {
     "data": {
      "text/plain": [
       "array(['g989'], dtype=object)"
      ]
     },
     "execution_count": 136,
     "metadata": {},
     "output_type": "execute_result"
    }
   ],
   "source": [
    "# Getting the duplicate mice by ID number that shows up for Mouse ID and Timepoint.\n",
    "duplicate_mouse_ids = merge_data_df.loc[merge_data_df.duplicated(subset=['Mouse ID', 'Timepoint']),'Mouse ID'].unique()\n",
    "duplicate_mouse_ids\n"
   ]
  },
  {
   "cell_type": "code",
   "execution_count": 94,
   "metadata": {},
   "outputs": [
    {
     "data": {
      "text/plain": [
       "Mouse ID              1880\n",
       "Timepoint             1880\n",
       "Tumor Volume (mm3)    1880\n",
       "Metastatic Sites      1880\n",
       "Drug Regimen          1880\n",
       "Sex                   1880\n",
       "Age_months            1880\n",
       "Weight (g)            1880\n",
       "dtype: int64"
      ]
     },
     "execution_count": 94,
     "metadata": {},
     "output_type": "execute_result"
    }
   ],
   "source": [
    "#Create a clean DataFrame by dropping the duplicate mouse by its ID. (remove with isin())\n",
    "remove_duplicates_df = merge_data_df[~merge_data_df.isin(duplicate_mouse_ids)].dropna()\n",
    "\n",
    "#remove_duplicates_df.count()\n",
    "#remove_duplicates_df[\"Mouse ID\"].value_counts().count()"
   ]
  },
  {
   "cell_type": "code",
   "execution_count": 137,
   "metadata": {
    "scrolled": true
   },
   "outputs": [
    {
     "data": {
      "text/html": [
       "<div>\n",
       "<style scoped>\n",
       "    .dataframe tbody tr th:only-of-type {\n",
       "        vertical-align: middle;\n",
       "    }\n",
       "\n",
       "    .dataframe tbody tr th {\n",
       "        vertical-align: top;\n",
       "    }\n",
       "\n",
       "    .dataframe thead th {\n",
       "        text-align: right;\n",
       "    }\n",
       "</style>\n",
       "<table border=\"1\" class=\"dataframe\">\n",
       "  <thead>\n",
       "    <tr style=\"text-align: right;\">\n",
       "      <th></th>\n",
       "      <th>Mouse ID</th>\n",
       "      <th>Timepoint</th>\n",
       "      <th>Tumor Volume (mm3)</th>\n",
       "      <th>Metastatic Sites</th>\n",
       "      <th>Drug Regimen</th>\n",
       "      <th>Sex</th>\n",
       "      <th>Age_months</th>\n",
       "      <th>Weight (g)</th>\n",
       "    </tr>\n",
       "  </thead>\n",
       "  <tbody>\n",
       "    <tr>\n",
       "      <th>860</th>\n",
       "      <td>g989</td>\n",
       "      <td>0</td>\n",
       "      <td>45.000000</td>\n",
       "      <td>0</td>\n",
       "      <td>Propriva</td>\n",
       "      <td>Female</td>\n",
       "      <td>21</td>\n",
       "      <td>26</td>\n",
       "    </tr>\n",
       "    <tr>\n",
       "      <th>861</th>\n",
       "      <td>g989</td>\n",
       "      <td>0</td>\n",
       "      <td>45.000000</td>\n",
       "      <td>0</td>\n",
       "      <td>Propriva</td>\n",
       "      <td>Female</td>\n",
       "      <td>21</td>\n",
       "      <td>26</td>\n",
       "    </tr>\n",
       "    <tr>\n",
       "      <th>862</th>\n",
       "      <td>g989</td>\n",
       "      <td>5</td>\n",
       "      <td>48.786801</td>\n",
       "      <td>0</td>\n",
       "      <td>Propriva</td>\n",
       "      <td>Female</td>\n",
       "      <td>21</td>\n",
       "      <td>26</td>\n",
       "    </tr>\n",
       "    <tr>\n",
       "      <th>863</th>\n",
       "      <td>g989</td>\n",
       "      <td>5</td>\n",
       "      <td>47.570392</td>\n",
       "      <td>0</td>\n",
       "      <td>Propriva</td>\n",
       "      <td>Female</td>\n",
       "      <td>21</td>\n",
       "      <td>26</td>\n",
       "    </tr>\n",
       "    <tr>\n",
       "      <th>864</th>\n",
       "      <td>g989</td>\n",
       "      <td>10</td>\n",
       "      <td>51.745156</td>\n",
       "      <td>0</td>\n",
       "      <td>Propriva</td>\n",
       "      <td>Female</td>\n",
       "      <td>21</td>\n",
       "      <td>26</td>\n",
       "    </tr>\n",
       "    <tr>\n",
       "      <th>865</th>\n",
       "      <td>g989</td>\n",
       "      <td>10</td>\n",
       "      <td>49.880528</td>\n",
       "      <td>0</td>\n",
       "      <td>Propriva</td>\n",
       "      <td>Female</td>\n",
       "      <td>21</td>\n",
       "      <td>26</td>\n",
       "    </tr>\n",
       "    <tr>\n",
       "      <th>866</th>\n",
       "      <td>g989</td>\n",
       "      <td>15</td>\n",
       "      <td>51.325852</td>\n",
       "      <td>1</td>\n",
       "      <td>Propriva</td>\n",
       "      <td>Female</td>\n",
       "      <td>21</td>\n",
       "      <td>26</td>\n",
       "    </tr>\n",
       "    <tr>\n",
       "      <th>867</th>\n",
       "      <td>g989</td>\n",
       "      <td>15</td>\n",
       "      <td>53.442020</td>\n",
       "      <td>0</td>\n",
       "      <td>Propriva</td>\n",
       "      <td>Female</td>\n",
       "      <td>21</td>\n",
       "      <td>26</td>\n",
       "    </tr>\n",
       "    <tr>\n",
       "      <th>868</th>\n",
       "      <td>g989</td>\n",
       "      <td>20</td>\n",
       "      <td>55.326122</td>\n",
       "      <td>1</td>\n",
       "      <td>Propriva</td>\n",
       "      <td>Female</td>\n",
       "      <td>21</td>\n",
       "      <td>26</td>\n",
       "    </tr>\n",
       "    <tr>\n",
       "      <th>869</th>\n",
       "      <td>g989</td>\n",
       "      <td>20</td>\n",
       "      <td>54.657650</td>\n",
       "      <td>1</td>\n",
       "      <td>Propriva</td>\n",
       "      <td>Female</td>\n",
       "      <td>21</td>\n",
       "      <td>26</td>\n",
       "    </tr>\n",
       "  </tbody>\n",
       "</table>\n",
       "</div>"
      ],
      "text/plain": [
       "    Mouse ID  Timepoint  Tumor Volume (mm3)  Metastatic Sites Drug Regimen  \\\n",
       "860     g989          0           45.000000                 0     Propriva   \n",
       "861     g989          0           45.000000                 0     Propriva   \n",
       "862     g989          5           48.786801                 0     Propriva   \n",
       "863     g989          5           47.570392                 0     Propriva   \n",
       "864     g989         10           51.745156                 0     Propriva   \n",
       "865     g989         10           49.880528                 0     Propriva   \n",
       "866     g989         15           51.325852                 1     Propriva   \n",
       "867     g989         15           53.442020                 0     Propriva   \n",
       "868     g989         20           55.326122                 1     Propriva   \n",
       "869     g989         20           54.657650                 1     Propriva   \n",
       "\n",
       "        Sex  Age_months  Weight (g)  \n",
       "860  Female          21          26  \n",
       "861  Female          21          26  \n",
       "862  Female          21          26  \n",
       "863  Female          21          26  \n",
       "864  Female          21          26  \n",
       "865  Female          21          26  \n",
       "866  Female          21          26  \n",
       "867  Female          21          26  \n",
       "868  Female          21          26  \n",
       "869  Female          21          26  "
      ]
     },
     "execution_count": 137,
     "metadata": {},
     "output_type": "execute_result"
    }
   ],
   "source": [
    "# Optional: Get all the data for the duplicate mouse ID.\n",
    "all_duplicates = pd.concat(g for _, g in merge_data_df.groupby(['Mouse ID','Timepoint']) if len(g) > 1)\n",
    "all_duplicates"
   ]
  },
  {
   "cell_type": "code",
   "execution_count": 138,
   "metadata": {},
   "outputs": [
    {
     "data": {
      "text/plain": [
       "248"
      ]
     },
     "execution_count": 138,
     "metadata": {},
     "output_type": "execute_result"
    }
   ],
   "source": [
    "# Checking the number of mice in the clean DataFrame.\n",
    "remove_duplicates_df[\"Mouse ID\"].value_counts().count()\n",
    "\n",
    "#remove_duplicates_df[\"Mouse ID\"].count()"
   ]
  },
  {
   "cell_type": "markdown",
   "metadata": {},
   "source": [
    "## Summary Statistics"
   ]
  },
  {
   "cell_type": "code",
   "execution_count": 158,
   "metadata": {},
   "outputs": [
    {
     "data": {
      "text/html": [
       "<style  type=\"text/css\" >\n",
       "</style><table id=\"T_e05a6014_0d15_11eb_9a4b_d4258b0e098d\" ><thead>    <tr>        <th class=\"blank level0\" ></th>        <th class=\"col_heading level0 col0\" >Mean</th>        <th class=\"col_heading level0 col1\" >Median</th>        <th class=\"col_heading level0 col2\" >Variance</th>        <th class=\"col_heading level0 col3\" >STD</th>        <th class=\"col_heading level0 col4\" >SEM</th>    </tr>    <tr>        <th class=\"index_name level0\" >Drug Regimen</th>        <th class=\"blank\" ></th>        <th class=\"blank\" ></th>        <th class=\"blank\" ></th>        <th class=\"blank\" ></th>        <th class=\"blank\" ></th>    </tr></thead><tbody>\n",
       "                <tr>\n",
       "                        <th id=\"T_e05a6014_0d15_11eb_9a4b_d4258b0e098dlevel0_row0\" class=\"row_heading level0 row0\" >Capomulin</th>\n",
       "                        <td id=\"T_e05a6014_0d15_11eb_9a4b_d4258b0e098drow0_col0\" class=\"data row0 col0\" >40.68</td>\n",
       "                        <td id=\"T_e05a6014_0d15_11eb_9a4b_d4258b0e098drow0_col1\" class=\"data row0 col1\" >41.56</td>\n",
       "                        <td id=\"T_e05a6014_0d15_11eb_9a4b_d4258b0e098drow0_col2\" class=\"data row0 col2\" >24.95</td>\n",
       "                        <td id=\"T_e05a6014_0d15_11eb_9a4b_d4258b0e098drow0_col3\" class=\"data row0 col3\" >4.99</td>\n",
       "                        <td id=\"T_e05a6014_0d15_11eb_9a4b_d4258b0e098drow0_col4\" class=\"data row0 col4\" >0.33</td>\n",
       "            </tr>\n",
       "            <tr>\n",
       "                        <th id=\"T_e05a6014_0d15_11eb_9a4b_d4258b0e098dlevel0_row1\" class=\"row_heading level0 row1\" >Ceftamin</th>\n",
       "                        <td id=\"T_e05a6014_0d15_11eb_9a4b_d4258b0e098drow1_col0\" class=\"data row1 col0\" >52.59</td>\n",
       "                        <td id=\"T_e05a6014_0d15_11eb_9a4b_d4258b0e098drow1_col1\" class=\"data row1 col1\" >51.78</td>\n",
       "                        <td id=\"T_e05a6014_0d15_11eb_9a4b_d4258b0e098drow1_col2\" class=\"data row1 col2\" >39.29</td>\n",
       "                        <td id=\"T_e05a6014_0d15_11eb_9a4b_d4258b0e098drow1_col3\" class=\"data row1 col3\" >6.27</td>\n",
       "                        <td id=\"T_e05a6014_0d15_11eb_9a4b_d4258b0e098drow1_col4\" class=\"data row1 col4\" >0.47</td>\n",
       "            </tr>\n",
       "            <tr>\n",
       "                        <th id=\"T_e05a6014_0d15_11eb_9a4b_d4258b0e098dlevel0_row2\" class=\"row_heading level0 row2\" >Infubinol</th>\n",
       "                        <td id=\"T_e05a6014_0d15_11eb_9a4b_d4258b0e098drow2_col0\" class=\"data row2 col0\" >52.88</td>\n",
       "                        <td id=\"T_e05a6014_0d15_11eb_9a4b_d4258b0e098drow2_col1\" class=\"data row2 col1\" >51.82</td>\n",
       "                        <td id=\"T_e05a6014_0d15_11eb_9a4b_d4258b0e098drow2_col2\" class=\"data row2 col2\" >43.13</td>\n",
       "                        <td id=\"T_e05a6014_0d15_11eb_9a4b_d4258b0e098drow2_col3\" class=\"data row2 col3\" >6.57</td>\n",
       "                        <td id=\"T_e05a6014_0d15_11eb_9a4b_d4258b0e098drow2_col4\" class=\"data row2 col4\" >0.49</td>\n",
       "            </tr>\n",
       "            <tr>\n",
       "                        <th id=\"T_e05a6014_0d15_11eb_9a4b_d4258b0e098dlevel0_row3\" class=\"row_heading level0 row3\" >Ketapril</th>\n",
       "                        <td id=\"T_e05a6014_0d15_11eb_9a4b_d4258b0e098drow3_col0\" class=\"data row3 col0\" >55.24</td>\n",
       "                        <td id=\"T_e05a6014_0d15_11eb_9a4b_d4258b0e098drow3_col1\" class=\"data row3 col1\" >53.70</td>\n",
       "                        <td id=\"T_e05a6014_0d15_11eb_9a4b_d4258b0e098drow3_col2\" class=\"data row3 col2\" >68.55</td>\n",
       "                        <td id=\"T_e05a6014_0d15_11eb_9a4b_d4258b0e098drow3_col3\" class=\"data row3 col3\" >8.28</td>\n",
       "                        <td id=\"T_e05a6014_0d15_11eb_9a4b_d4258b0e098drow3_col4\" class=\"data row3 col4\" >0.60</td>\n",
       "            </tr>\n",
       "            <tr>\n",
       "                        <th id=\"T_e05a6014_0d15_11eb_9a4b_d4258b0e098dlevel0_row4\" class=\"row_heading level0 row4\" >Naftisol</th>\n",
       "                        <td id=\"T_e05a6014_0d15_11eb_9a4b_d4258b0e098drow4_col0\" class=\"data row4 col0\" >54.33</td>\n",
       "                        <td id=\"T_e05a6014_0d15_11eb_9a4b_d4258b0e098drow4_col1\" class=\"data row4 col1\" >52.51</td>\n",
       "                        <td id=\"T_e05a6014_0d15_11eb_9a4b_d4258b0e098drow4_col2\" class=\"data row4 col2\" >66.17</td>\n",
       "                        <td id=\"T_e05a6014_0d15_11eb_9a4b_d4258b0e098drow4_col3\" class=\"data row4 col3\" >8.13</td>\n",
       "                        <td id=\"T_e05a6014_0d15_11eb_9a4b_d4258b0e098drow4_col4\" class=\"data row4 col4\" >0.60</td>\n",
       "            </tr>\n",
       "            <tr>\n",
       "                        <th id=\"T_e05a6014_0d15_11eb_9a4b_d4258b0e098dlevel0_row5\" class=\"row_heading level0 row5\" >Placebo</th>\n",
       "                        <td id=\"T_e05a6014_0d15_11eb_9a4b_d4258b0e098drow5_col0\" class=\"data row5 col0\" >54.03</td>\n",
       "                        <td id=\"T_e05a6014_0d15_11eb_9a4b_d4258b0e098drow5_col1\" class=\"data row5 col1\" >52.29</td>\n",
       "                        <td id=\"T_e05a6014_0d15_11eb_9a4b_d4258b0e098drow5_col2\" class=\"data row5 col2\" >61.17</td>\n",
       "                        <td id=\"T_e05a6014_0d15_11eb_9a4b_d4258b0e098drow5_col3\" class=\"data row5 col3\" >7.82</td>\n",
       "                        <td id=\"T_e05a6014_0d15_11eb_9a4b_d4258b0e098drow5_col4\" class=\"data row5 col4\" >0.58</td>\n",
       "            </tr>\n",
       "            <tr>\n",
       "                        <th id=\"T_e05a6014_0d15_11eb_9a4b_d4258b0e098dlevel0_row6\" class=\"row_heading level0 row6\" >Propriva</th>\n",
       "                        <td id=\"T_e05a6014_0d15_11eb_9a4b_d4258b0e098drow6_col0\" class=\"data row6 col0\" >52.32</td>\n",
       "                        <td id=\"T_e05a6014_0d15_11eb_9a4b_d4258b0e098drow6_col1\" class=\"data row6 col1\" >50.45</td>\n",
       "                        <td id=\"T_e05a6014_0d15_11eb_9a4b_d4258b0e098drow6_col2\" class=\"data row6 col2\" >43.85</td>\n",
       "                        <td id=\"T_e05a6014_0d15_11eb_9a4b_d4258b0e098drow6_col3\" class=\"data row6 col3\" >6.62</td>\n",
       "                        <td id=\"T_e05a6014_0d15_11eb_9a4b_d4258b0e098drow6_col4\" class=\"data row6 col4\" >0.54</td>\n",
       "            </tr>\n",
       "            <tr>\n",
       "                        <th id=\"T_e05a6014_0d15_11eb_9a4b_d4258b0e098dlevel0_row7\" class=\"row_heading level0 row7\" >Ramicane</th>\n",
       "                        <td id=\"T_e05a6014_0d15_11eb_9a4b_d4258b0e098drow7_col0\" class=\"data row7 col0\" >40.22</td>\n",
       "                        <td id=\"T_e05a6014_0d15_11eb_9a4b_d4258b0e098drow7_col1\" class=\"data row7 col1\" >40.67</td>\n",
       "                        <td id=\"T_e05a6014_0d15_11eb_9a4b_d4258b0e098drow7_col2\" class=\"data row7 col2\" >23.49</td>\n",
       "                        <td id=\"T_e05a6014_0d15_11eb_9a4b_d4258b0e098drow7_col3\" class=\"data row7 col3\" >4.85</td>\n",
       "                        <td id=\"T_e05a6014_0d15_11eb_9a4b_d4258b0e098drow7_col4\" class=\"data row7 col4\" >0.32</td>\n",
       "            </tr>\n",
       "            <tr>\n",
       "                        <th id=\"T_e05a6014_0d15_11eb_9a4b_d4258b0e098dlevel0_row8\" class=\"row_heading level0 row8\" >Stelasyn</th>\n",
       "                        <td id=\"T_e05a6014_0d15_11eb_9a4b_d4258b0e098drow8_col0\" class=\"data row8 col0\" >54.23</td>\n",
       "                        <td id=\"T_e05a6014_0d15_11eb_9a4b_d4258b0e098drow8_col1\" class=\"data row8 col1\" >52.43</td>\n",
       "                        <td id=\"T_e05a6014_0d15_11eb_9a4b_d4258b0e098drow8_col2\" class=\"data row8 col2\" >59.45</td>\n",
       "                        <td id=\"T_e05a6014_0d15_11eb_9a4b_d4258b0e098drow8_col3\" class=\"data row8 col3\" >7.71</td>\n",
       "                        <td id=\"T_e05a6014_0d15_11eb_9a4b_d4258b0e098drow8_col4\" class=\"data row8 col4\" >0.57</td>\n",
       "            </tr>\n",
       "            <tr>\n",
       "                        <th id=\"T_e05a6014_0d15_11eb_9a4b_d4258b0e098dlevel0_row9\" class=\"row_heading level0 row9\" >Zoniferol</th>\n",
       "                        <td id=\"T_e05a6014_0d15_11eb_9a4b_d4258b0e098drow9_col0\" class=\"data row9 col0\" >53.24</td>\n",
       "                        <td id=\"T_e05a6014_0d15_11eb_9a4b_d4258b0e098drow9_col1\" class=\"data row9 col1\" >51.82</td>\n",
       "                        <td id=\"T_e05a6014_0d15_11eb_9a4b_d4258b0e098drow9_col2\" class=\"data row9 col2\" >48.53</td>\n",
       "                        <td id=\"T_e05a6014_0d15_11eb_9a4b_d4258b0e098drow9_col3\" class=\"data row9 col3\" >6.97</td>\n",
       "                        <td id=\"T_e05a6014_0d15_11eb_9a4b_d4258b0e098drow9_col4\" class=\"data row9 col4\" >0.52</td>\n",
       "            </tr>\n",
       "    </tbody></table>"
      ],
      "text/plain": [
       "<pandas.io.formats.style.Styler at 0x298afeab908>"
      ]
     },
     "execution_count": 158,
     "metadata": {},
     "output_type": "execute_result"
    }
   ],
   "source": [
    "# Generate a summary statistics table of mean, median, variance, standard deviation, and SEM of the tumor volume for each regimen\n",
    "\n",
    "# Use groupby and summary statistical methods to calculate the following properties of each drug regimen: \n",
    "# mean, median, variance, standard deviation, and SEM of the tumor volume.\n",
    "\n",
    "group_by_regimen = remove_duplicates_df.groupby([\"Drug Regimen\"])\n",
    "\n",
    "mean_tv_by_regimen = group_by_regimen[\"Tumor Volume (mm3)\"].mean()\n",
    "\n",
    "median_tv_by_regimen = group_by_regimen[\"Tumor Volume (mm3)\"].median()\n",
    "\n",
    "var_tv_by_regimen = group_by_regimen[\"Tumor Volume (mm3)\"].var()\n",
    "\n",
    "std_tv_by_regimen = group_by_regimen[\"Tumor Volume (mm3)\"].std()\n",
    "\n",
    "sem_tv_by_regimen = group_by_regimen[\"Tumor Volume (mm3)\"].sem()\n",
    "\n",
    "# Assemble the resulting series into a single summary dataframe.\n",
    "\n",
    "summary_statistics_df = pd.DataFrame({\"Mean\": mean_tv_by_regimen, \n",
    "                                      \"Median\": median_tv_by_regimen,\n",
    "                                      \"Variance\": var_tv_by_regimen,\n",
    "                                      \"STD\": std_tv_by_regimen,\n",
    "                                     \"SEM\": sem_tv_by_regimen})\n",
    "\n",
    "# Data formatting\n",
    "summary_statistics_df.style.format({\"Mean\": \"{:.2f}\",\n",
    "                                    \"Median\": \"{:.2f}\",\n",
    "                                    \"Variance\": \"{:.2f}\",\n",
    "                                   \"STD\": \"{:.2f}\",\n",
    "                                   \"SEM\": \"{:.2f}\"})\n"
   ]
  },
  {
   "cell_type": "code",
   "execution_count": 159,
   "metadata": {},
   "outputs": [
    {
     "data": {
      "text/html": [
       "<style  type=\"text/css\" >\n",
       "</style><table id=\"T_e0c01cf6_0d15_11eb_81a1_d4258b0e098d\" ><thead>    <tr>        <th class=\"blank level0\" ></th>        <th class=\"col_heading level0 col0\" >Mean</th>        <th class=\"col_heading level0 col1\" >Median</th>        <th class=\"col_heading level0 col2\" >Variance</th>        <th class=\"col_heading level0 col3\" >STD</th>        <th class=\"col_heading level0 col4\" >SEM</th>    </tr>    <tr>        <th class=\"index_name level0\" >Drug Regimen</th>        <th class=\"blank\" ></th>        <th class=\"blank\" ></th>        <th class=\"blank\" ></th>        <th class=\"blank\" ></th>        <th class=\"blank\" ></th>    </tr></thead><tbody>\n",
       "                <tr>\n",
       "                        <th id=\"T_e0c01cf6_0d15_11eb_81a1_d4258b0e098dlevel0_row0\" class=\"row_heading level0 row0\" >Capomulin</th>\n",
       "                        <td id=\"T_e0c01cf6_0d15_11eb_81a1_d4258b0e098drow0_col0\" class=\"data row0 col0\" >40.68</td>\n",
       "                        <td id=\"T_e0c01cf6_0d15_11eb_81a1_d4258b0e098drow0_col1\" class=\"data row0 col1\" >41.56</td>\n",
       "                        <td id=\"T_e0c01cf6_0d15_11eb_81a1_d4258b0e098drow0_col2\" class=\"data row0 col2\" >24.95</td>\n",
       "                        <td id=\"T_e0c01cf6_0d15_11eb_81a1_d4258b0e098drow0_col3\" class=\"data row0 col3\" >4.99</td>\n",
       "                        <td id=\"T_e0c01cf6_0d15_11eb_81a1_d4258b0e098drow0_col4\" class=\"data row0 col4\" >0.33</td>\n",
       "            </tr>\n",
       "            <tr>\n",
       "                        <th id=\"T_e0c01cf6_0d15_11eb_81a1_d4258b0e098dlevel0_row1\" class=\"row_heading level0 row1\" >Ceftamin</th>\n",
       "                        <td id=\"T_e0c01cf6_0d15_11eb_81a1_d4258b0e098drow1_col0\" class=\"data row1 col0\" >52.59</td>\n",
       "                        <td id=\"T_e0c01cf6_0d15_11eb_81a1_d4258b0e098drow1_col1\" class=\"data row1 col1\" >51.78</td>\n",
       "                        <td id=\"T_e0c01cf6_0d15_11eb_81a1_d4258b0e098drow1_col2\" class=\"data row1 col2\" >39.29</td>\n",
       "                        <td id=\"T_e0c01cf6_0d15_11eb_81a1_d4258b0e098drow1_col3\" class=\"data row1 col3\" >6.27</td>\n",
       "                        <td id=\"T_e0c01cf6_0d15_11eb_81a1_d4258b0e098drow1_col4\" class=\"data row1 col4\" >0.47</td>\n",
       "            </tr>\n",
       "            <tr>\n",
       "                        <th id=\"T_e0c01cf6_0d15_11eb_81a1_d4258b0e098dlevel0_row2\" class=\"row_heading level0 row2\" >Infubinol</th>\n",
       "                        <td id=\"T_e0c01cf6_0d15_11eb_81a1_d4258b0e098drow2_col0\" class=\"data row2 col0\" >52.88</td>\n",
       "                        <td id=\"T_e0c01cf6_0d15_11eb_81a1_d4258b0e098drow2_col1\" class=\"data row2 col1\" >51.82</td>\n",
       "                        <td id=\"T_e0c01cf6_0d15_11eb_81a1_d4258b0e098drow2_col2\" class=\"data row2 col2\" >43.13</td>\n",
       "                        <td id=\"T_e0c01cf6_0d15_11eb_81a1_d4258b0e098drow2_col3\" class=\"data row2 col3\" >6.57</td>\n",
       "                        <td id=\"T_e0c01cf6_0d15_11eb_81a1_d4258b0e098drow2_col4\" class=\"data row2 col4\" >0.49</td>\n",
       "            </tr>\n",
       "            <tr>\n",
       "                        <th id=\"T_e0c01cf6_0d15_11eb_81a1_d4258b0e098dlevel0_row3\" class=\"row_heading level0 row3\" >Ketapril</th>\n",
       "                        <td id=\"T_e0c01cf6_0d15_11eb_81a1_d4258b0e098drow3_col0\" class=\"data row3 col0\" >55.24</td>\n",
       "                        <td id=\"T_e0c01cf6_0d15_11eb_81a1_d4258b0e098drow3_col1\" class=\"data row3 col1\" >53.70</td>\n",
       "                        <td id=\"T_e0c01cf6_0d15_11eb_81a1_d4258b0e098drow3_col2\" class=\"data row3 col2\" >68.55</td>\n",
       "                        <td id=\"T_e0c01cf6_0d15_11eb_81a1_d4258b0e098drow3_col3\" class=\"data row3 col3\" >8.28</td>\n",
       "                        <td id=\"T_e0c01cf6_0d15_11eb_81a1_d4258b0e098drow3_col4\" class=\"data row3 col4\" >0.60</td>\n",
       "            </tr>\n",
       "            <tr>\n",
       "                        <th id=\"T_e0c01cf6_0d15_11eb_81a1_d4258b0e098dlevel0_row4\" class=\"row_heading level0 row4\" >Naftisol</th>\n",
       "                        <td id=\"T_e0c01cf6_0d15_11eb_81a1_d4258b0e098drow4_col0\" class=\"data row4 col0\" >54.33</td>\n",
       "                        <td id=\"T_e0c01cf6_0d15_11eb_81a1_d4258b0e098drow4_col1\" class=\"data row4 col1\" >52.51</td>\n",
       "                        <td id=\"T_e0c01cf6_0d15_11eb_81a1_d4258b0e098drow4_col2\" class=\"data row4 col2\" >66.17</td>\n",
       "                        <td id=\"T_e0c01cf6_0d15_11eb_81a1_d4258b0e098drow4_col3\" class=\"data row4 col3\" >8.13</td>\n",
       "                        <td id=\"T_e0c01cf6_0d15_11eb_81a1_d4258b0e098drow4_col4\" class=\"data row4 col4\" >0.60</td>\n",
       "            </tr>\n",
       "            <tr>\n",
       "                        <th id=\"T_e0c01cf6_0d15_11eb_81a1_d4258b0e098dlevel0_row5\" class=\"row_heading level0 row5\" >Placebo</th>\n",
       "                        <td id=\"T_e0c01cf6_0d15_11eb_81a1_d4258b0e098drow5_col0\" class=\"data row5 col0\" >54.03</td>\n",
       "                        <td id=\"T_e0c01cf6_0d15_11eb_81a1_d4258b0e098drow5_col1\" class=\"data row5 col1\" >52.29</td>\n",
       "                        <td id=\"T_e0c01cf6_0d15_11eb_81a1_d4258b0e098drow5_col2\" class=\"data row5 col2\" >61.17</td>\n",
       "                        <td id=\"T_e0c01cf6_0d15_11eb_81a1_d4258b0e098drow5_col3\" class=\"data row5 col3\" >7.82</td>\n",
       "                        <td id=\"T_e0c01cf6_0d15_11eb_81a1_d4258b0e098drow5_col4\" class=\"data row5 col4\" >0.58</td>\n",
       "            </tr>\n",
       "            <tr>\n",
       "                        <th id=\"T_e0c01cf6_0d15_11eb_81a1_d4258b0e098dlevel0_row6\" class=\"row_heading level0 row6\" >Propriva</th>\n",
       "                        <td id=\"T_e0c01cf6_0d15_11eb_81a1_d4258b0e098drow6_col0\" class=\"data row6 col0\" >52.32</td>\n",
       "                        <td id=\"T_e0c01cf6_0d15_11eb_81a1_d4258b0e098drow6_col1\" class=\"data row6 col1\" >50.45</td>\n",
       "                        <td id=\"T_e0c01cf6_0d15_11eb_81a1_d4258b0e098drow6_col2\" class=\"data row6 col2\" >43.85</td>\n",
       "                        <td id=\"T_e0c01cf6_0d15_11eb_81a1_d4258b0e098drow6_col3\" class=\"data row6 col3\" >6.62</td>\n",
       "                        <td id=\"T_e0c01cf6_0d15_11eb_81a1_d4258b0e098drow6_col4\" class=\"data row6 col4\" >0.54</td>\n",
       "            </tr>\n",
       "            <tr>\n",
       "                        <th id=\"T_e0c01cf6_0d15_11eb_81a1_d4258b0e098dlevel0_row7\" class=\"row_heading level0 row7\" >Ramicane</th>\n",
       "                        <td id=\"T_e0c01cf6_0d15_11eb_81a1_d4258b0e098drow7_col0\" class=\"data row7 col0\" >40.22</td>\n",
       "                        <td id=\"T_e0c01cf6_0d15_11eb_81a1_d4258b0e098drow7_col1\" class=\"data row7 col1\" >40.67</td>\n",
       "                        <td id=\"T_e0c01cf6_0d15_11eb_81a1_d4258b0e098drow7_col2\" class=\"data row7 col2\" >23.49</td>\n",
       "                        <td id=\"T_e0c01cf6_0d15_11eb_81a1_d4258b0e098drow7_col3\" class=\"data row7 col3\" >4.85</td>\n",
       "                        <td id=\"T_e0c01cf6_0d15_11eb_81a1_d4258b0e098drow7_col4\" class=\"data row7 col4\" >0.32</td>\n",
       "            </tr>\n",
       "            <tr>\n",
       "                        <th id=\"T_e0c01cf6_0d15_11eb_81a1_d4258b0e098dlevel0_row8\" class=\"row_heading level0 row8\" >Stelasyn</th>\n",
       "                        <td id=\"T_e0c01cf6_0d15_11eb_81a1_d4258b0e098drow8_col0\" class=\"data row8 col0\" >54.23</td>\n",
       "                        <td id=\"T_e0c01cf6_0d15_11eb_81a1_d4258b0e098drow8_col1\" class=\"data row8 col1\" >52.43</td>\n",
       "                        <td id=\"T_e0c01cf6_0d15_11eb_81a1_d4258b0e098drow8_col2\" class=\"data row8 col2\" >59.45</td>\n",
       "                        <td id=\"T_e0c01cf6_0d15_11eb_81a1_d4258b0e098drow8_col3\" class=\"data row8 col3\" >7.71</td>\n",
       "                        <td id=\"T_e0c01cf6_0d15_11eb_81a1_d4258b0e098drow8_col4\" class=\"data row8 col4\" >0.57</td>\n",
       "            </tr>\n",
       "            <tr>\n",
       "                        <th id=\"T_e0c01cf6_0d15_11eb_81a1_d4258b0e098dlevel0_row9\" class=\"row_heading level0 row9\" >Zoniferol</th>\n",
       "                        <td id=\"T_e0c01cf6_0d15_11eb_81a1_d4258b0e098drow9_col0\" class=\"data row9 col0\" >53.24</td>\n",
       "                        <td id=\"T_e0c01cf6_0d15_11eb_81a1_d4258b0e098drow9_col1\" class=\"data row9 col1\" >51.82</td>\n",
       "                        <td id=\"T_e0c01cf6_0d15_11eb_81a1_d4258b0e098drow9_col2\" class=\"data row9 col2\" >48.53</td>\n",
       "                        <td id=\"T_e0c01cf6_0d15_11eb_81a1_d4258b0e098drow9_col3\" class=\"data row9 col3\" >6.97</td>\n",
       "                        <td id=\"T_e0c01cf6_0d15_11eb_81a1_d4258b0e098drow9_col4\" class=\"data row9 col4\" >0.52</td>\n",
       "            </tr>\n",
       "    </tbody></table>"
      ],
      "text/plain": [
       "<pandas.io.formats.style.Styler at 0x298afdbce10>"
      ]
     },
     "execution_count": 159,
     "metadata": {},
     "output_type": "execute_result"
    }
   ],
   "source": [
    "# Generate a summary statistics table of mean, median, variance, standard deviation, and SEM of the tumor volume for each regimen\n",
    "# Using the aggregation method, produce the same summary statistics in a single line\n",
    "\n",
    "summary_statistics_agg = group_by_regimen[\"Tumor Volume (mm3)\"].agg(Mean=\"mean\", Median=\"median\",Variance=\"var\",STD=\"std\", SEM=\"sem\")\n",
    "\n",
    "# Data formatting\n",
    "summary_statistics_agg.style.format({\"Mean\": \"{:.2f}\",\n",
    "                                    \"Median\": \"{:.2f}\",\n",
    "                                    \"Variance\": \"{:.2f}\",\n",
    "                                   \"STD\": \"{:.2f}\",\n",
    "                                   \"SEM\": \"{:.2f}\"})"
   ]
  },
  {
   "cell_type": "markdown",
   "metadata": {},
   "source": [
    "## Bar and Pie Charts"
   ]
  },
  {
   "cell_type": "code",
   "execution_count": 176,
   "metadata": {},
   "outputs": [
    {
     "data": {
      "image/png": "[encoded data removed]",
      "text/plain": [
       "<Figure size 504x288 with 1 Axes>"
      ]
     },
     "metadata": {
      "needs_background": "light"
     },
     "output_type": "display_data"
    },
    {
     "data": {
      "text/plain": [
       "<Figure size 432x288 with 0 Axes>"
      ]
     },
     "metadata": {},
     "output_type": "display_data"
    }
   ],
   "source": [
    "# Generate a bar plot showing the total number of unique mice tested on each drug regimen using pandas pandas\n",
    "\n",
    "num_mice_pandas = group_by_regimen[\"Timepoint\"].count().plot.bar(figsize=(7,4), title=\"Total Number of Unique Mice for per Treatment (Pandas)\")\n",
    "\n",
    "num_mice_pandas.set_xlabel(\"Drug Regimen\")\n",
    "num_mice_pandas.set_ylabel(\"Number of Unique Mice\")\n",
    "\n",
    "plt.show()\n",
    "plt.tight_layout()"
   ]
  },
  {
   "cell_type": "code",
   "execution_count": 175,
   "metadata": {},
   "outputs": [
    {
     "data": {
      "image/png": "[encoded data removed]",
      "text/plain": [
       "<Figure size 432x288 with 1 Axes>"
      ]
     },
     "metadata": {
      "needs_background": "light"
     },
     "output_type": "display_data"
    }
   ],
   "source": [
    "# Generate a bar plot showing number of data points for each treatment regimen using pyplot\n",
    "x_axis = summary_statistics_agg.index\n",
    "y_axis = group_by_regimen[\"Timepoint\"].count()\n",
    "\n",
    "plt.title(\"Total Number of Unique Mice for per Treatment (PyPlot)\")\n",
    "plt.xlabel(\"Drug Regimen\")\n",
    "plt.ylabel(\"Number of Mice\")\n",
    "plt.xlim(-0.75, len(x_axis)-.25)\n",
    "plt.ylim(0, max(y_axis) + 10)\n",
    "\n",
    "plt.bar(x_axis, y_axis, facecolor=\"red\", alpha=0.75, align=\"center\")\n",
    "plt.xticks(x_axis, rotation=\"vertical\")\n",
    "plt.show()"
   ]
  },
  {
   "cell_type": "code",
   "execution_count": 173,
   "metadata": {},
   "outputs": [
    {
     "name": "stdout",
     "output_type": "stream",
     "text": [
      "Sex\n",
      "Female    123\n",
      "Male      125\n",
      "Name: Mouse ID, dtype: int64\n"
     ]
    },
    {
     "data": {
      "image/png": "[encoded data removed]",
      "text/plain": [
       "<Figure size 504x288 with 1 Axes>"
      ]
     },
     "metadata": {},
     "output_type": "display_data"
    }
   ],
   "source": [
    "# Generate a pie plot showing the distribution of female versus male mice using pandas\n",
    "\n",
    "group_by_sex = remove_duplicates_df.groupby([\"Sex\"])\n",
    "\n",
    "# Counting Players by Gender\n",
    "gender_count = group_by_sex.nunique()[\"Mouse ID\"]\n",
    "print(gender_count)\n",
    "\n",
    "gender_pie = gender_count.plot.pie(figsize=(7,4), autopct=\"%1.1f%%\", colors = [\"blue\", \"orange\"], startangle=140, title = \"Distribution of Female vs Male\")\n",
    "gender_pie.set_ylabel(\"Gender\")\n",
    "\n",
    "plt.show()\n",
    "\n"
   ]
  },
  {
   "cell_type": "code",
   "execution_count": 163,
   "metadata": {},
   "outputs": [
    {
     "data": {
      "text/plain": [
       "([<matplotlib.patches.Wedge at 0x298b134e080>,\n",
       "  <matplotlib.patches.Wedge at 0x298b134e9e8>],\n",
       " [Text(-0.7176837777416648, -0.8336246128602807, 'Female'),\n",
       "  Text(0.7176837777416649, 0.8336246128602806, 'Male')],\n",
       " [Text(-0.39146387876818073, -0.45470433428742574, '49.6%'),\n",
       "  Text(0.39146387876818084, 0.4547043342874257, '50.4%')])"
      ]
     },
     "execution_count": 163,
     "metadata": {},
     "output_type": "execute_result"
    },
    {
     "data": {
      "image/png": "[encoded data removed]",
      "text/plain": [
       "<Figure size 432x288 with 1 Axes>"
      ]
     },
     "metadata": {},
     "output_type": "display_data"
    }
   ],
   "source": [
    "# Generate a pie plot showing the distribution of female versus male mice using pyplot\n",
    "\n",
    "gender = [\"Female\", \"Male\"]\n",
    "\n",
    "# The colors of each section of the pie chart\n",
    "colors = [\"blue\", \"orange\"]\n",
    "\n",
    "# Tells matplotlib to seperate the \"Humans\" section from the others\n",
    "plt.title(\"Distribution of Female vs Male\")\n",
    "plt.ylabel(\"Gender\")\n",
    "\n",
    "plt.pie(gender_count, labels=gender, colors=colors,\n",
    "        autopct=\"%1.1f%%\", shadow=True, startangle=140)"
   ]
  },
  {
   "cell_type": "markdown",
   "metadata": {},
   "source": [
    "## Quartiles, Outliers and Boxplots"
   ]
  },
  {
   "cell_type": "code",
   "execution_count": 164,
   "metadata": {},
   "outputs": [
    {
     "data": {
      "text/html": [
       "<div>\n",
       "<style scoped>\n",
       "    .dataframe tbody tr th:only-of-type {\n",
       "        vertical-align: middle;\n",
       "    }\n",
       "\n",
       "    .dataframe tbody tr th {\n",
       "        vertical-align: top;\n",
       "    }\n",
       "\n",
       "    .dataframe thead th {\n",
       "        text-align: right;\n",
       "    }\n",
       "</style>\n",
       "<table border=\"1\" class=\"dataframe\">\n",
       "  <thead>\n",
       "    <tr style=\"text-align: right;\">\n",
       "      <th></th>\n",
       "      <th>Mouse ID</th>\n",
       "      <th>Timepoint</th>\n",
       "      <th>Tumor Volume (mm3)</th>\n",
       "      <th>Metastatic Sites</th>\n",
       "      <th>Drug Regimen</th>\n",
       "      <th>Sex</th>\n",
       "      <th>Age_months</th>\n",
       "      <th>Weight (g)</th>\n",
       "    </tr>\n",
       "  </thead>\n",
       "  <tbody>\n",
       "    <tr>\n",
       "      <th>0</th>\n",
       "      <td>a203</td>\n",
       "      <td>45</td>\n",
       "      <td>67.973419</td>\n",
       "      <td>2</td>\n",
       "      <td>Infubinol</td>\n",
       "      <td>Female</td>\n",
       "      <td>20</td>\n",
       "      <td>23</td>\n",
       "    </tr>\n",
       "    <tr>\n",
       "      <th>1</th>\n",
       "      <td>a251</td>\n",
       "      <td>45</td>\n",
       "      <td>65.525743</td>\n",
       "      <td>1</td>\n",
       "      <td>Infubinol</td>\n",
       "      <td>Female</td>\n",
       "      <td>21</td>\n",
       "      <td>25</td>\n",
       "    </tr>\n",
       "    <tr>\n",
       "      <th>2</th>\n",
       "      <td>a262</td>\n",
       "      <td>45</td>\n",
       "      <td>70.717621</td>\n",
       "      <td>4</td>\n",
       "      <td>Placebo</td>\n",
       "      <td>Female</td>\n",
       "      <td>17</td>\n",
       "      <td>29</td>\n",
       "    </tr>\n",
       "    <tr>\n",
       "      <th>3</th>\n",
       "      <td>a275</td>\n",
       "      <td>45</td>\n",
       "      <td>62.999356</td>\n",
       "      <td>3</td>\n",
       "      <td>Ceftamin</td>\n",
       "      <td>Female</td>\n",
       "      <td>20</td>\n",
       "      <td>28</td>\n",
       "    </tr>\n",
       "    <tr>\n",
       "      <th>4</th>\n",
       "      <td>a366</td>\n",
       "      <td>30</td>\n",
       "      <td>63.440686</td>\n",
       "      <td>1</td>\n",
       "      <td>Stelasyn</td>\n",
       "      <td>Female</td>\n",
       "      <td>16</td>\n",
       "      <td>29</td>\n",
       "    </tr>\n",
       "  </tbody>\n",
       "</table>\n",
       "</div>"
      ],
      "text/plain": [
       "  Mouse ID  Timepoint  Tumor Volume (mm3)  Metastatic Sites Drug Regimen  \\\n",
       "0     a203         45           67.973419                 2    Infubinol   \n",
       "1     a251         45           65.525743                 1    Infubinol   \n",
       "2     a262         45           70.717621                 4      Placebo   \n",
       "3     a275         45           62.999356                 3     Ceftamin   \n",
       "4     a366         30           63.440686                 1     Stelasyn   \n",
       "\n",
       "      Sex  Age_months  Weight (g)  \n",
       "0  Female          20          23  \n",
       "1  Female          21          25  \n",
       "2  Female          17          29  \n",
       "3  Female          20          28  \n",
       "4  Female          16          29  "
      ]
     },
     "execution_count": 164,
     "metadata": {},
     "output_type": "execute_result"
    }
   ],
   "source": [
    "# Calculate the final tumor volume of each mouse across four of the treatment regimens:  \n",
    "# Capomulin, Ramicane, Infubinol, and Ceftamin\n",
    "\n",
    "# Start by getting the last (greatest) timepoint for each mouse\n",
    "group_by = remove_duplicates_df.groupby([\"Mouse ID\"])\n",
    "max_timepoint = group_by[\"Timepoint\"].max()\n",
    "\n",
    "#Conver max_timepoint to DataFrame\n",
    "df_max_timepoint = pd.DataFrame({\"Timepoint\": max_timepoint})\n",
    "#df_max_timepoint\n",
    "#print(max_timepoint)\n",
    "\n",
    "# Merge this group df with the original dataframe to get the tumor volume at the last timepoint\n",
    "merge_max_timepoint = pd.merge(max_timepoint,remove_duplicates_df, on=[\"Mouse ID\", \"Timepoint\"])\n",
    "merge_max_timepoint.head()\n",
    "\n"
   ]
  },
  {
   "cell_type": "code",
   "execution_count": 165,
   "metadata": {},
   "outputs": [
    {
     "data": {
      "text/html": [
       "<style  type=\"text/css\" >\n",
       "</style><table id=\"T_e6b7db9a_0d15_11eb_acd5_d4258b0e098d\" ><thead>    <tr>        <th class=\"blank level0\" ></th>        <th class=\"col_heading level0 col0\" >Treatment</th>        <th class=\"col_heading level0 col1\" >Lower Outlier</th>        <th class=\"col_heading level0 col2\" >Upper Outlier</th>    </tr></thead><tbody>\n",
       "                <tr>\n",
       "                        <th id=\"T_e6b7db9a_0d15_11eb_acd5_d4258b0e098dlevel0_row0\" class=\"row_heading level0 row0\" >0</th>\n",
       "                        <td id=\"T_e6b7db9a_0d15_11eb_acd5_d4258b0e098drow0_col0\" class=\"data row0 col0\" >Capomulin</td>\n",
       "                        <td id=\"T_e6b7db9a_0d15_11eb_acd5_d4258b0e098drow0_col1\" class=\"data row0 col1\" >20.70</td>\n",
       "                        <td id=\"T_e6b7db9a_0d15_11eb_acd5_d4258b0e098drow0_col2\" class=\"data row0 col2\" >51.83</td>\n",
       "            </tr>\n",
       "            <tr>\n",
       "                        <th id=\"T_e6b7db9a_0d15_11eb_acd5_d4258b0e098dlevel0_row1\" class=\"row_heading level0 row1\" >1</th>\n",
       "                        <td id=\"T_e6b7db9a_0d15_11eb_acd5_d4258b0e098drow1_col0\" class=\"data row1 col0\" >Ramicane</td>\n",
       "                        <td id=\"T_e6b7db9a_0d15_11eb_acd5_d4258b0e098drow1_col1\" class=\"data row1 col1\" >17.91</td>\n",
       "                        <td id=\"T_e6b7db9a_0d15_11eb_acd5_d4258b0e098drow1_col2\" class=\"data row1 col2\" >54.31</td>\n",
       "            </tr>\n",
       "            <tr>\n",
       "                        <th id=\"T_e6b7db9a_0d15_11eb_acd5_d4258b0e098dlevel0_row2\" class=\"row_heading level0 row2\" >2</th>\n",
       "                        <td id=\"T_e6b7db9a_0d15_11eb_acd5_d4258b0e098drow2_col0\" class=\"data row2 col0\" >Infubinol</td>\n",
       "                        <td id=\"T_e6b7db9a_0d15_11eb_acd5_d4258b0e098drow2_col1\" class=\"data row2 col1\" >36.83</td>\n",
       "                        <td id=\"T_e6b7db9a_0d15_11eb_acd5_d4258b0e098drow2_col2\" class=\"data row2 col2\" >82.74</td>\n",
       "            </tr>\n",
       "            <tr>\n",
       "                        <th id=\"T_e6b7db9a_0d15_11eb_acd5_d4258b0e098dlevel0_row3\" class=\"row_heading level0 row3\" >3</th>\n",
       "                        <td id=\"T_e6b7db9a_0d15_11eb_acd5_d4258b0e098drow3_col0\" class=\"data row3 col0\" >Ceftamin</td>\n",
       "                        <td id=\"T_e6b7db9a_0d15_11eb_acd5_d4258b0e098drow3_col1\" class=\"data row3 col1\" >25.36</td>\n",
       "                        <td id=\"T_e6b7db9a_0d15_11eb_acd5_d4258b0e098drow3_col2\" class=\"data row3 col2\" >87.67</td>\n",
       "            </tr>\n",
       "    </tbody></table>"
      ],
      "text/plain": [
       "<pandas.io.formats.style.Styler at 0x298afdee278>"
      ]
     },
     "execution_count": 165,
     "metadata": {},
     "output_type": "execute_result"
    }
   ],
   "source": [
    "# Put treatments into a list for for loop (and later for plot labels)\n",
    "treatments = [\"Capomulin\", \"Ramicane\", \"Infubinol\", \"Ceftamin\"]\n",
    "\n",
    "# Create empty list to fill with tumor vol data (for plotting)\n",
    "\n",
    "selected_drugs_df = pd.DataFrame() #DataFrame of the tumor volume of each mouse across four of the treatment regimens\n",
    "outliers_df = pd.DataFrame() #DataFrame of Outliers per Drug\n",
    "\n",
    "# Calculate the IQR and quantitatively determine if there are any potential outliers. \n",
    "    \n",
    "    # Locate the rows which contain mice on each drug and get the tumor volumes\n",
    "for drug in treatments:\n",
    "    tumor_vol = []\n",
    "    for x in range(len(merge_max_timepoint)):\n",
    "        #print(x)\n",
    "        if merge_max_timepoint.iloc[x,4] == drug:\n",
    "            tumor_vol.append(merge_max_timepoint.iloc[x,2])\n",
    "        else:\n",
    "            pass\n",
    "             \n",
    "    # add subset: DataFrame of the tumor volume of each mouse across four of the treatment regimens   \n",
    "    selected_drugs_df[drug] = tumor_vol\n",
    "        \n",
    "    # Determine outliers using upper and lower bounds\n",
    "    quartiles = selected_drugs_df[drug].quantile([.25,.5,.75])\n",
    "\n",
    "    lowerq = quartiles[0.25]\n",
    "    upperq = quartiles[0.75]\n",
    "    iqr = upperq-lowerq\n",
    "    \n",
    "    lower_bound = lowerq - (1.5*iqr)\n",
    "    upper_bound = upperq + (1.5*iqr)    \n",
    "    \n",
    "    new_row = ({\"Treatment\": drug, \"Lower Outlier\" : lower_bound, \"Upper Outlier\": upper_bound})\n",
    "    outliers_df = outliers_df.append(new_row, ignore_index=True)\n",
    "   \n",
    "outliers_df = outliers_df[[\"Treatment\", \"Lower Outlier\", \"Upper Outlier\"]]\n",
    "\n",
    "\n",
    "# Data formatting\n",
    "outliers_df.style.format({\"Lower Outlier\": \"{:.2f}\",\n",
    "                                    \"Upper Outlier\": \"{:.2f}\"})\n"
   ]
  },
  {
   "cell_type": "code",
   "execution_count": 167,
   "metadata": {},
   "outputs": [
    {
     "data": {
      "image/png": "[encoded data removed]",
      "text/plain": [
       "<Figure size 432x288 with 1 Axes>"
      ]
     },
     "metadata": {
      "needs_background": "light"
     },
     "output_type": "display_data"
    }
   ],
   "source": [
    "# Generate a box plot of the final tumor volume of each mouse across four regimens of interest\n",
    "\n",
    "boxplot = selected_drugs_df.boxplot(column=[\"Capomulin\", \"Ramicane\", \"Infubinol\", \"Ceftamin\"])\n",
    "plt.title(\"Final Tumor Volume of Each Mouse per Regiment\")\n",
    "plt.xlabel(\"Drug Regimens\")\n",
    "plt.ylabel(\"Final Tumor Volume (mm3)\")\n",
    "\n",
    "plt.show()\n"
   ]
  },
  {
   "cell_type": "markdown",
   "metadata": {},
   "source": [
    "## Line and Scatter Plots"
   ]
  },
  {
   "cell_type": "code",
   "execution_count": 148,
   "metadata": {},
   "outputs": [
    {
     "data": {
      "image/png": "[encoded data removed]",
      "text/plain": [
       "<Figure size 432x288 with 1 Axes>"
      ]
     },
     "metadata": {
      "needs_background": "light"
     },
     "output_type": "display_data"
    }
   ],
   "source": [
    "# Generate a line plot of tumor volume vs. time point for a mouse treated with Capomulin\n",
    "\n",
    "# Create a new DataFrame that looks into Capomulin only\n",
    "only_Capomulin = remove_duplicates_df.loc[(remove_duplicates_df[\"Drug Regimen\"] == \"Capomulin\"), [\"Mouse ID\",\"Drug Regimen\",\"Timepoint\",\"Tumor Volume (mm3)\",\"Weight (g)\"]]\n",
    "only_Capomulin.head()\n",
    "\n",
    "# Select data of a single mouse. I choose Mouse_ID = i738\n",
    "selected_mouse_id = only_Capomulin.loc[only_Capomulin[\"Mouse ID\"] == \"s185\"]\n",
    "selected_mouse_id\n",
    "\n",
    "#line plot for selected mouse (tumor volume vs. time point)\n",
    "x_axis = selected_mouse_id[\"Timepoint\"]\n",
    "y_axis = selected_mouse_id[\"Tumor Volume (mm3)\"]\n",
    "\n",
    "plt.title(\"Tumor Volume vs. Time Point (Capomulin, Mouse_ID = s185\")\n",
    "plt.xlabel(\"Timepoint  (days)\")\n",
    "plt.ylabel(\"Tumor Volume (mm3)\")\n",
    "\n",
    "plt.plot(x_axis, y_axis, color=\"green\")\n",
    "plt.show()\n",
    "\n"
   ]
  },
  {
   "cell_type": "code",
   "execution_count": 149,
   "metadata": {},
   "outputs": [
    {
     "data": {
      "image/png": "[encoded data removed]",
      "text/plain": [
       "<Figure size 432x288 with 1 Axes>"
      ]
     },
     "metadata": {
      "needs_background": "light"
     },
     "output_type": "display_data"
    }
   ],
   "source": [
    "# Generate a scatter plot of average tumor volume vs. mouse weight for the Capomulin regimen\n",
    "\n",
    "group_by_weight = only_Capomulin.groupby([\"Mouse ID\"])\n",
    "\n",
    "tumor_avr_mouseID = group_by_weight[\"Tumor Volume (mm3)\"].mean().astype(int)\n",
    "\n",
    "weight_mouseID = group_by_weight[\"Weight (g)\"].unique().astype(int)\n",
    "\n",
    "#Set a DataFrame with obtained results\n",
    "tumor_avr_df = pd.DataFrame({\"Weight\": weight_mouseID, \"Average Tumor Volume\": tumor_avr_mouseID})\n",
    "\n",
    "#Plotting\n",
    "x_axis = tumor_avr_df[\"Weight\"]\n",
    "y_axis = tumor_avr_df[\"Average Tumor Volume\"]\n",
    "\n",
    "plt.title(\"Average Tumor Volume vs. Weight (Capomulin)\")\n",
    "plt.ylabel(\"Average Tumor Volume\")\n",
    "plt.xlabel(\"Weight (g)\")\n",
    "\n",
    "\n",
    "plt.scatter(x_axis, y_axis, marker=\"o\", facecolors=\"red\", edgecolors=\"black\")\n",
    "plt.show()"
   ]
  },
  {
   "cell_type": "markdown",
   "metadata": {},
   "source": [
    "## Correlation and Regression"
   ]
  },
  {
   "cell_type": "code",
   "execution_count": 174,
   "metadata": {},
   "outputs": [
    {
     "name": "stdout",
     "output_type": "stream",
     "text": [
      "The correlation between average tumor volume and mouse weight is 0.84\n"
     ]
    },
    {
     "data": {
      "image/png": "[encoded data removed]",
      "text/plain": [
       "<Figure size 432x288 with 1 Axes>"
      ]
     },
     "metadata": {
      "needs_background": "light"
     },
     "output_type": "display_data"
    },
    {
     "name": "stdout",
     "output_type": "stream",
     "text": [
      "y = 0.94x + 21.28\n"
     ]
    }
   ],
   "source": [
    "# Calculate the correlation coefficient and linear regression model \n",
    "# for mouse weight and average tumor volume for the Capomulin regimen\n",
    "\n",
    "#print(tumor_avr_df)\n",
    "\n",
    "#Correlation Coeff.\n",
    "\n",
    "from scipy.stats import linregress\n",
    "\n",
    "x_axis = tumor_avr_df[\"Weight\"]\n",
    "y_axis = tumor_avr_df[\"Average Tumor Volume\"]\n",
    "\n",
    "correlation = st.pearsonr(x_axis,y_axis)\n",
    "print(f\"The correlation between average tumor volume and mouse weight is {round(correlation[0],2)}\")\n",
    "\n",
    "#Regression\n",
    "\n",
    "(slope, intercept, rvalue, pvalue, stderr) = linregress(x_axis, y_axis)\n",
    "regress_values = x_axis * slope + intercept\n",
    "line_eq = \"y = \" + str(round(slope,2)) + \"x + \" + str(round(intercept,2))\n",
    "\n",
    "plt.scatter(x_axis, y_axis, marker=\"o\", facecolors=\"red\", edgecolors=\"black\")\n",
    "plt.plot(x_axis,regress_values,\"r-\")\n",
    "#plt.annotate(line_eq,(8,16),fontsize=15,color=\"red\")\n",
    "plt.title(\"Average Tumor Volume vs. Mouse Weight (Capomulin)\")\n",
    "plt.ylabel(\"Average Tumor Volume\")\n",
    "plt.xlabel(\"Weight (g)\")\n",
    "\n",
    "plt.show()\n",
    "\n",
    "print(line_eq)"
   ]
  },
  {
   "cell_type": "code",
   "execution_count": null,
   "metadata": {},
   "outputs": [],
   "source": []
  }
 ],
 "metadata": {
  "anaconda-cloud": {},
  "kernelspec": {
   "display_name": "Python 3",
   "language": "python",
   "name": "python3"
  },
  "language_info": {
   "codemirror_mode": {
    "name": "ipython",
    "version": 3
   },
   "file_extension": ".py",
   "mimetype": "text/x-python",
   "name": "python",
   "nbconvert_exporter": "python",
   "pygments_lexer": "ipython3",
   "version": "3.6.12"
  }
 },
 "nbformat": 4,
 "nbformat_minor": 4
}
