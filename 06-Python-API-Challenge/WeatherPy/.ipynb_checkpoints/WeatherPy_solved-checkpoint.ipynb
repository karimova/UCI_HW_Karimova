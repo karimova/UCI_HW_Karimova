{
 "cells": [
  {
   "cell_type": "markdown",
   "metadata": {},
   "source": [
    "# WeatherPy\n",
    "----\n",
    "\n",
    "#### Note\n",
    "* Instructions have been included for each segment. You do not have to follow them exactly, but they are included to help you think through the steps."
   ]
  },
  {
   "cell_type": "code",
   "execution_count": 1,
   "metadata": {
    "scrolled": true
   },
   "outputs": [],
   "source": [
    "# Dependencies\n",
    "import json\n",
    "import requests\n",
    "from api_keys import weather_api_key\n",
    "from citipy import citipy\n",
    "import pandas as pd\n",
    "import random as rd\n",
    "import numpy as np\n",
    "import matplotlib.pyplot as plt\n",
    "import scipy.stats as st\n",
    "from scipy.stats import linregress\n",
    "%matplotlib inline"
   ]
  },
  {
   "cell_type": "code",
   "execution_count": 2,
   "metadata": {},
   "outputs": [],
   "source": [
    "#print(weather_api_key)"
   ]
  },
  {
   "cell_type": "markdown",
   "metadata": {},
   "source": [
    "## Generate Cities List"
   ]
  },
  {
   "cell_type": "code",
   "execution_count": 16,
   "metadata": {},
   "outputs": [],
   "source": [
    "# City name can be found by geographic coordinates (latitude, and longitude): \n",
    "# \"api.openweathermap.org/data/2.5/weather?lat={lat}&lon={lon}&appid={API key}\"\n",
    "\n",
    "# I will use it to generate list of cities.\n",
    "\n",
    "num_lat_lon = 3500\n",
    "\n",
    "\n",
    "latitude = []\n",
    "longitude = []\n",
    "\n",
    "#Generating float random numbers (2 decimol) for lat and lon\n",
    "\n",
    "for num_lat in np.random.uniform(-90,90,num_lat_lon):\n",
    "    latitude.append(round(num_lat,1))\n",
    "\n",
    "for num_lon in np.random.uniform(-180,180,num_lat_lon):\n",
    "    longitude.append(round(num_lon,1))\n",
    "    "
   ]
  },
  {
   "cell_type": "code",
   "execution_count": 17,
   "metadata": {},
   "outputs": [],
   "source": [
    "# I have used the citipy library to find the nearest city for all latitudes and longitudes:\n",
    "#I did \"pip install citipy\" first\n",
    "\n",
    "city_list = []\n",
    "country_list = []\n",
    "\n",
    "for i in range(num_lat_lon):\n",
    "    lat = latitude[i]\n",
    "    lon = longitude[i]\n",
    "    \n",
    "    city_search = citipy.nearest_city(lat,lon)\n",
    "    city = citipy.nearest_city(lat,lon)\n",
    "    \n",
    "    city_return = city.city_name\n",
    "    \n",
    "    city_list.append(city_return)\n"
   ]
  },
  {
   "cell_type": "code",
   "execution_count": 18,
   "metadata": {},
   "outputs": [
    {
     "data": {
      "text/plain": [
       "City Name    \n",
       "rikitea          126\n",
       "ushuaia           90\n",
       "punta arenas      74\n",
       "albany            67\n",
       "busselton         63\n",
       "                ... \n",
       "novyy urengoy      1\n",
       "novoagansk         1\n",
       "noumea             1\n",
       "northam            1\n",
       "abbeville          1\n",
       "Length: 1133, dtype: int64"
      ]
     },
     "execution_count": 18,
     "metadata": {},
     "output_type": "execute_result"
    }
   ],
   "source": [
    "# Put data into DataFrame and Check duplicates\n",
    "\n",
    "city_df = pd.DataFrame({\"City Name\": city_list})\n",
    "city_df.value_counts()\n",
    "\n",
    "#city_df.count()"
   ]
  },
  {
   "cell_type": "code",
   "execution_count": 19,
   "metadata": {},
   "outputs": [],
   "source": [
    "# Getting the duplicate Cities in the DataFrame.\n",
    "\n",
    "duplicate_city_df = city_df.loc[city_df.duplicated(subset=['City Name']),'City Name'].unique()\n",
    "#duplicate_city_df"
   ]
  },
  {
   "cell_type": "code",
   "execution_count": 20,
   "metadata": {},
   "outputs": [
    {
     "name": "stdout",
     "output_type": "stream",
     "text": [
      "782\n"
     ]
    }
   ],
   "source": [
    "# Create a clean DataFrame by dropping the duplicate from the DataFrame. I should have 500+ cities.\n",
    "\n",
    "clean_city_df = city_df[city_df['City Name'].isin(duplicate_city_df)==False]\n",
    "clean_city_df.value_counts()\n",
    "\n",
    "# Total number of Cities in the clear list\n",
    "\n",
    "number_cities_inList = len(clean_city_df['City Name'].unique())\n",
    "print(number_cities_inList)\n"
   ]
  },
  {
   "cell_type": "markdown",
   "metadata": {},
   "source": [
    "### Perform API Calls\n",
    "* Perform a weather check on each city using a series of successive API calls.\n",
    "* Include a print log of each city as it'sbeing processed (with the city number and city name).\n"
   ]
  },
  {
   "cell_type": "code",
   "execution_count": 21,
   "metadata": {
    "scrolled": true
   },
   "outputs": [
    {
     "name": "stdout",
     "output_type": "stream",
     "text": [
      "Processing Record 1 of set 1 | taihe\n",
      "Processing Record 2 of set 1 | mitu\n",
      "Processing Record 3 of set 1 | mawlaik\n",
      "Processing Record 4 of set 1 | reyes\n",
      "Processing Record 5 of set 1 | vesyegonsk\n",
      "City not found. Skipping\n",
      "Processing Record 7 of set 1 | ponta delgada\n",
      "Processing Record 8 of set 1 | komsomolskiy\n",
      "Processing Record 9 of set 1 | vanimo\n",
      "Processing Record 10 of set 1 | pangkalanbuun\n",
      "Processing Record 11 of set 1 | chokwe\n",
      "Processing Record 12 of set 1 | manggar\n",
      "Processing Record 13 of set 1 | sisimiut\n",
      "City not found. Skipping\n",
      "Processing Record 15 of set 1 | grimshaw\n",
      "Processing Record 16 of set 1 | puerto leguizamo\n",
      "Processing Record 17 of set 1 | wanning\n",
      "City not found. Skipping\n",
      "Processing Record 19 of set 1 | vangaindrano\n",
      "Processing Record 20 of set 1 | yuancheng\n",
      "Processing Record 21 of set 1 | garowe\n",
      "Processing Record 22 of set 1 | birnin kebbi\n",
      "Processing Record 23 of set 1 | tukums\n",
      "Processing Record 24 of set 1 | zhigansk\n",
      "Processing Record 25 of set 1 | patrocinio\n",
      "Processing Record 26 of set 1 | sandwick\n",
      "Processing Record 27 of set 1 | capinota\n",
      "Processing Record 28 of set 1 | wajima\n",
      "City not found. Skipping\n",
      "Processing Record 30 of set 1 | kochi\n",
      "Processing Record 31 of set 1 | natchitoches\n",
      "Processing Record 32 of set 1 | kitob\n",
      "Processing Record 33 of set 1 | lodja\n",
      "Processing Record 34 of set 1 | chakradharpur\n",
      "Processing Record 35 of set 1 | miandrivazo\n",
      "Processing Record 36 of set 1 | pemba\n",
      "Processing Record 37 of set 1 | port hueneme\n",
      "Processing Record 38 of set 1 | skibbereen\n",
      "Processing Record 39 of set 1 | awbari\n",
      "Processing Record 40 of set 1 | ewa beach\n",
      "Processing Record 41 of set 1 | fort saint james\n",
      "Processing Record 42 of set 1 | marrakesh\n",
      "Processing Record 43 of set 1 | gillette\n",
      "Processing Record 44 of set 1 | muroto\n",
      "Processing Record 45 of set 1 | yelizovo\n",
      "Processing Record 46 of set 1 | lukiv\n",
      "Processing Record 47 of set 1 | arvika\n",
      "Processing Record 48 of set 1 | chesma\n",
      "Processing Record 49 of set 1 | fuling\n",
      "Processing Record 50 of set 1 | arroyo\n",
      "Processing Record 51 of set 1 | sabinas hidalgo\n",
      "Processing Record 52 of set 1 | scarborough\n",
      "Processing Record 53 of set 1 | parrita\n",
      "Processing Record 54 of set 1 | santa maria da boa vista\n",
      "Processing Record 55 of set 2 | molteno\n",
      "Processing Record 56 of set 2 | blairmore\n",
      "Processing Record 57 of set 2 | san felipe\n",
      "Processing Record 58 of set 2 | san francisco\n",
      "Processing Record 59 of set 2 | estacion coahuila\n",
      "City not found. Skipping\n",
      "Processing Record 61 of set 2 | halifax\n",
      "Processing Record 62 of set 2 | ginda\n",
      "Processing Record 63 of set 2 | wau\n",
      "Processing Record 64 of set 2 | zaragoza\n",
      "Processing Record 65 of set 2 | oxford\n",
      "Processing Record 66 of set 2 | tocopilla\n",
      "Processing Record 67 of set 2 | smithers\n",
      "Processing Record 68 of set 2 | fayaoue\n",
      "Processing Record 69 of set 2 | de-kastri\n",
      "Processing Record 70 of set 2 | port shepstone\n",
      "Processing Record 71 of set 2 | jatai\n",
      "Processing Record 72 of set 2 | moose factory\n",
      "Processing Record 73 of set 2 | gasa\n",
      "Processing Record 74 of set 2 | cheremshan\n",
      "Processing Record 75 of set 2 | praia\n",
      "Processing Record 76 of set 2 | yalutorovsk\n",
      "Processing Record 77 of set 2 | matara\n",
      "Processing Record 78 of set 2 | shenzhen\n",
      "Processing Record 79 of set 2 | okhotsk\n",
      "Processing Record 80 of set 2 | yarada\n",
      "City not found. Skipping\n",
      "Processing Record 82 of set 2 | bindura\n",
      "City not found. Skipping\n",
      "City not found. Skipping\n",
      "Processing Record 85 of set 2 | barranca\n",
      "Processing Record 86 of set 2 | vestmanna\n",
      "Processing Record 87 of set 2 | sobolevo\n",
      "Processing Record 88 of set 2 | casambalangan\n",
      "Processing Record 89 of set 2 | ibotirama\n",
      "Processing Record 90 of set 2 | kamaishi\n",
      "Processing Record 91 of set 2 | marsaxlokk\n",
      "Processing Record 92 of set 2 | yavatmal\n",
      "Processing Record 93 of set 2 | djougou\n",
      "Processing Record 94 of set 2 | cortes\n",
      "Processing Record 95 of set 2 | gulbene\n",
      "City not found. Skipping\n",
      "Processing Record 97 of set 2 | odweyne\n",
      "Processing Record 98 of set 2 | dunda\n",
      "Processing Record 99 of set 2 | san jeronimo\n",
      "Processing Record 100 of set 2 | dangriga\n",
      "Processing Record 101 of set 2 | les cayes\n",
      "Processing Record 102 of set 2 | buala\n",
      "Processing Record 103 of set 2 | grand-santi\n",
      "Processing Record 104 of set 2 | nianzishan\n",
      "Processing Record 105 of set 2 | rzhyshchiv\n",
      "Processing Record 106 of set 2 | berlevag\n",
      "Processing Record 107 of set 2 | samana\n",
      "Processing Record 108 of set 2 | umea\n",
      "Processing Record 109 of set 2 | sawtell\n",
      "Processing Record 110 of set 2 | bay roberts\n",
      "Processing Record 111 of set 3 | agirish\n",
      "Processing Record 112 of set 3 | fort-shevchenko\n",
      "Processing Record 113 of set 3 | manacor\n",
      "Processing Record 114 of set 3 | tortoli\n",
      "Processing Record 115 of set 3 | alexandria\n",
      "Processing Record 116 of set 3 | balaguer\n",
      "City not found. Skipping\n",
      "Processing Record 118 of set 3 | salalah\n",
      "Processing Record 119 of set 3 | sassandra\n",
      "Processing Record 120 of set 3 | kon tum\n",
      "Processing Record 121 of set 3 | tonota\n",
      "Processing Record 122 of set 3 | chernyakhiv\n",
      "Processing Record 123 of set 3 | vilyuysk\n",
      "Processing Record 124 of set 3 | tahe\n",
      "Processing Record 125 of set 3 | obregon\n",
      "Processing Record 126 of set 3 | san vicente\n",
      "Processing Record 127 of set 3 | salto\n",
      "City not found. Skipping\n",
      "Processing Record 129 of set 3 | bontang\n",
      "Processing Record 130 of set 3 | oussouye\n",
      "City not found. Skipping\n",
      "Processing Record 132 of set 3 | howard springs\n",
      "Processing Record 133 of set 3 | lima\n",
      "Processing Record 134 of set 3 | boralday\n",
      "City not found. Skipping\n",
      "Processing Record 136 of set 3 | shakawe\n",
      "Processing Record 137 of set 3 | mahon\n",
      "Processing Record 138 of set 3 | iralaya\n",
      "Processing Record 139 of set 3 | ellsworth\n",
      "Processing Record 140 of set 3 | khash\n",
      "Processing Record 141 of set 3 | minab\n",
      "Processing Record 142 of set 3 | birjand\n",
      "Processing Record 143 of set 3 | hobyo\n",
      "Processing Record 144 of set 3 | fort smith\n",
      "Processing Record 145 of set 3 | shalya\n",
      "Processing Record 146 of set 3 | kodinsk\n",
      "Processing Record 147 of set 3 | ziway\n",
      "Processing Record 148 of set 3 | bukama\n",
      "Processing Record 149 of set 3 | gornozavodsk\n",
      "Processing Record 150 of set 3 | groa\n",
      "Processing Record 151 of set 3 | sechura\n",
      "Processing Record 152 of set 3 | kalengwa\n",
      "Processing Record 153 of set 3 | shimoda\n",
      "Processing Record 154 of set 3 | onokhoy\n",
      "Processing Record 155 of set 3 | matagami\n",
      "Processing Record 156 of set 3 | luzhou\n",
      "Processing Record 157 of set 3 | bukoba\n",
      "Processing Record 158 of set 3 | bethanien\n",
      "Processing Record 159 of set 3 | strezhevoy\n",
      "Processing Record 160 of set 3 | kalashnikovo\n",
      "Processing Record 161 of set 3 | eirunepe\n",
      "Processing Record 162 of set 3 | zirandaro\n",
      "Processing Record 163 of set 3 | pinega\n",
      "Processing Record 164 of set 3 | huangpi\n",
      "Processing Record 165 of set 3 | srandakan\n",
      "Processing Record 166 of set 4 | chingola\n",
      "Processing Record 167 of set 4 | catamarca\n",
      "Processing Record 168 of set 4 | atzacan\n",
      "Processing Record 169 of set 4 | biltine\n",
      "Processing Record 170 of set 4 | berezovyy\n",
      "Processing Record 171 of set 4 | altamont\n",
      "Processing Record 172 of set 4 | hay river\n",
      "Processing Record 173 of set 4 | waren\n",
      "Processing Record 174 of set 4 | buchanan\n",
      "Processing Record 175 of set 4 | churapcha\n",
      "Processing Record 176 of set 4 | killybegs\n",
      "Processing Record 177 of set 4 | preobrazheniye\n",
      "Processing Record 178 of set 4 | vuktyl\n",
      "Processing Record 179 of set 4 | graaff-reinet\n",
      "Processing Record 180 of set 4 | dodge city\n",
      "Processing Record 181 of set 4 | victor harbor\n",
      "Processing Record 182 of set 4 | beni mazar\n",
      "Processing Record 183 of set 4 | totness\n",
      "City not found. Skipping\n",
      "Processing Record 185 of set 4 | norsup\n",
      "Processing Record 186 of set 4 | tura\n",
      "Processing Record 187 of set 4 | bubaque\n",
      "City not found. Skipping\n",
      "Processing Record 189 of set 4 | tommot\n",
      "City not found. Skipping\n",
      "Processing Record 191 of set 4 | santa isabel do rio negro\n",
      "Processing Record 192 of set 4 | tazovskiy\n",
      "Processing Record 193 of set 4 | jose de freitas\n",
      "City not found. Skipping\n",
      "Processing Record 195 of set 4 | amga\n",
      "Processing Record 196 of set 4 | umm lajj\n",
      "Processing Record 197 of set 4 | itarema\n",
      "City not found. Skipping\n",
      "Processing Record 199 of set 4 | turbat\n",
      "Processing Record 200 of set 4 | bima\n",
      "Processing Record 201 of set 4 | mahbubabad\n",
      "Processing Record 202 of set 4 | krasnoselkup\n",
      "Processing Record 203 of set 4 | ugoofaaru\n",
      "Processing Record 204 of set 4 | gavle\n"
     ]
    },
    {
     "name": "stdout",
     "output_type": "stream",
     "text": [
      "City not found. Skipping\n",
      "Processing Record 206 of set 4 | zheleznodorozhnyy\n",
      "Processing Record 207 of set 4 | billings\n",
      "Processing Record 208 of set 4 | san rafael del sur\n",
      "Processing Record 209 of set 4 | palaikastron\n",
      "Processing Record 210 of set 4 | castelldefels\n",
      "Processing Record 211 of set 4 | taunggyi\n",
      "City not found. Skipping\n",
      "Processing Record 213 of set 4 | erzurum\n",
      "Processing Record 214 of set 4 | tete\n",
      "Processing Record 215 of set 4 | taoudenni\n",
      "Processing Record 216 of set 4 | linhares\n",
      "Processing Record 217 of set 4 | puerto escondido\n",
      "Processing Record 218 of set 4 | garh maharaja\n",
      "Processing Record 219 of set 4 | huntingdon\n",
      "Processing Record 220 of set 4 | libenge\n",
      "Processing Record 221 of set 4 | mpika\n",
      "Processing Record 222 of set 4 | paka\n",
      "Processing Record 223 of set 4 | neverkino\n",
      "Processing Record 224 of set 5 | bratsk\n",
      "Processing Record 225 of set 5 | yendi\n",
      "Processing Record 226 of set 5 | shetpe\n",
      "Processing Record 227 of set 5 | dunyapur\n",
      "Processing Record 228 of set 5 | amod\n",
      "Processing Record 229 of set 5 | tiarei\n",
      "Processing Record 230 of set 5 | barbastro\n",
      "Processing Record 231 of set 5 | pedernales\n",
      "Processing Record 232 of set 5 | filadelfia\n",
      "Processing Record 233 of set 5 | bangolo\n",
      "Processing Record 234 of set 5 | arantangi\n",
      "Processing Record 235 of set 5 | sidney\n",
      "Processing Record 236 of set 5 | kalos agros\n",
      "Processing Record 237 of set 5 | kenai\n",
      "Processing Record 238 of set 5 | hereford\n",
      "Processing Record 239 of set 5 | cedar city\n",
      "Processing Record 240 of set 5 | parit buntar\n",
      "Processing Record 241 of set 5 | nikel\n",
      "Processing Record 242 of set 5 | vagur\n",
      "Processing Record 243 of set 5 | rapid valley\n",
      "Processing Record 244 of set 5 | caxito\n",
      "Processing Record 245 of set 5 | tortosa\n",
      "Processing Record 246 of set 5 | road town\n",
      "Processing Record 247 of set 5 | salou\n",
      "Processing Record 248 of set 5 | cardston\n",
      "Processing Record 249 of set 5 | quixada\n",
      "Processing Record 250 of set 5 | correntina\n",
      "Processing Record 251 of set 5 | vilaka\n",
      "Processing Record 252 of set 5 | ankazobe\n",
      "Processing Record 253 of set 5 | michigan city\n",
      "Processing Record 254 of set 5 | lampa\n",
      "Processing Record 255 of set 5 | sakaiminato\n",
      "Processing Record 256 of set 5 | magaria\n",
      "Processing Record 257 of set 5 | leeton\n",
      "Processing Record 258 of set 5 | slyudyanka\n",
      "Processing Record 259 of set 5 | mocuba\n",
      "Processing Record 260 of set 5 | grants\n",
      "Processing Record 261 of set 5 | pampa\n",
      "Processing Record 262 of set 5 | peleduy\n",
      "Processing Record 263 of set 5 | sainte-marie\n",
      "Processing Record 264 of set 5 | hope\n",
      "Processing Record 265 of set 5 | puerto ayacucho\n",
      "Processing Record 266 of set 5 | kobrinskoye\n",
      "Processing Record 267 of set 5 | ust-omchug\n",
      "Processing Record 268 of set 5 | slavutych\n",
      "Processing Record 269 of set 5 | mahdalynivka\n",
      "Processing Record 270 of set 5 | bor\n",
      "Processing Record 271 of set 5 | pandamatenga\n",
      "Processing Record 272 of set 5 | verkhnyaya toyma\n",
      "Processing Record 273 of set 5 | kudat\n",
      "Processing Record 274 of set 5 | ambositra\n",
      "Processing Record 275 of set 6 | beaverlodge\n",
      "City not found. Skipping\n",
      "Processing Record 277 of set 6 | nazareno\n",
      "Processing Record 278 of set 6 | doka\n",
      "Processing Record 279 of set 6 | kudahuvadhoo\n",
      "Processing Record 280 of set 6 | hanna\n",
      "Processing Record 281 of set 6 | wakkanai\n",
      "Processing Record 282 of set 6 | gisborne\n",
      "Processing Record 283 of set 6 | sao gabriel da cachoeira\n",
      "Processing Record 284 of set 6 | mukhen\n",
      "Processing Record 285 of set 6 | la asuncion\n",
      "City not found. Skipping\n",
      "City not found. Skipping\n",
      "Processing Record 288 of set 6 | yining\n",
      "Processing Record 289 of set 6 | karapyshi\n",
      "Processing Record 290 of set 6 | savannah bight\n",
      "City not found. Skipping\n",
      "Processing Record 292 of set 6 | watertown\n",
      "City not found. Skipping\n",
      "Processing Record 294 of set 6 | redmond\n",
      "Processing Record 295 of set 6 | deputatskiy\n",
      "Processing Record 296 of set 6 | nha trang\n",
      "Processing Record 297 of set 6 | elliot\n",
      "Processing Record 298 of set 6 | overyata\n",
      "Processing Record 299 of set 6 | rydultowy\n",
      "Processing Record 300 of set 6 | ventspils\n",
      "Processing Record 301 of set 6 | andenes\n",
      "City not found. Skipping\n",
      "Processing Record 303 of set 6 | igarka\n",
      "Processing Record 304 of set 6 | tual\n",
      "Processing Record 305 of set 6 | agadir\n",
      "Processing Record 306 of set 6 | riyadh\n",
      "Processing Record 307 of set 6 | kargasok\n",
      "Processing Record 308 of set 6 | kamakhyanagar\n",
      "Processing Record 309 of set 6 | sibu\n",
      "Processing Record 310 of set 6 | sharjah\n",
      "Processing Record 311 of set 6 | gumdag\n",
      "City not found. Skipping\n",
      "Processing Record 313 of set 6 | manokwari\n",
      "Processing Record 314 of set 6 | palmerston\n",
      "Processing Record 315 of set 6 | normandin\n",
      "Processing Record 316 of set 6 | opuwo\n",
      "Processing Record 317 of set 6 | tongren\n",
      "Processing Record 318 of set 6 | yima\n",
      "Processing Record 319 of set 6 | lipin bor\n",
      "Processing Record 320 of set 6 | sambava\n",
      "Processing Record 321 of set 6 | las cruces\n",
      "Processing Record 322 of set 6 | borisoglebskiy\n",
      "Processing Record 323 of set 6 | lyngseidet\n",
      "Processing Record 324 of set 6 | paramonga\n",
      "Processing Record 325 of set 6 | hostotipaquillo\n",
      "Processing Record 326 of set 6 | bamako\n",
      "Processing Record 327 of set 6 | filingue\n",
      "Processing Record 328 of set 6 | metu\n",
      "Processing Record 329 of set 6 | oil city\n",
      "Processing Record 330 of set 6 | pudozh\n",
      "Processing Record 331 of set 6 | whitehorse\n",
      "Processing Record 332 of set 6 | balma\n",
      "Processing Record 333 of set 7 | ukiah\n",
      "Processing Record 334 of set 7 | voh\n",
      "Processing Record 335 of set 7 | nioki\n",
      "Processing Record 336 of set 7 | aswan\n",
      "Processing Record 337 of set 7 | baghdad\n",
      "Processing Record 338 of set 7 | bandipur\n",
      "Processing Record 339 of set 7 | dumbea\n",
      "Processing Record 340 of set 7 | marakkanam\n",
      "Processing Record 341 of set 7 | gravelbourg\n",
      "Processing Record 342 of set 7 | kitgum\n",
      "Processing Record 343 of set 7 | darovskoy\n",
      "Processing Record 344 of set 7 | zaraza\n",
      "Processing Record 345 of set 7 | chabahar\n",
      "Processing Record 346 of set 7 | tsukumi\n",
      "Processing Record 347 of set 7 | curico\n",
      "Processing Record 348 of set 7 | ferme-neuve\n",
      "Processing Record 349 of set 7 | pokaran\n",
      "Processing Record 350 of set 7 | vanino\n",
      "Processing Record 351 of set 7 | aripuana\n",
      "Processing Record 352 of set 7 | alugan\n",
      "Processing Record 353 of set 7 | ponorogo\n",
      "Processing Record 354 of set 7 | shurugwi\n",
      "Processing Record 355 of set 7 | pronsk\n",
      "Processing Record 356 of set 7 | topolobampo\n",
      "Processing Record 357 of set 7 | la ronge\n",
      "Processing Record 358 of set 7 | samarinda\n",
      "Processing Record 359 of set 7 | national city\n",
      "Processing Record 360 of set 7 | coahuayana\n",
      "Processing Record 361 of set 7 | ranong\n",
      "Processing Record 362 of set 7 | chiclana\n",
      "Processing Record 363 of set 7 | gondanglegi\n",
      "Processing Record 364 of set 7 | karimganj\n",
      "Processing Record 365 of set 7 | launceston\n",
      "Processing Record 366 of set 7 | manta\n",
      "Processing Record 367 of set 7 | emmett\n",
      "Processing Record 368 of set 7 | elat\n",
      "Processing Record 369 of set 7 | sao miguel do araguaia\n",
      "Processing Record 370 of set 7 | cutlerville\n",
      "Processing Record 371 of set 7 | nizwa\n",
      "Processing Record 372 of set 7 | galle\n",
      "Processing Record 373 of set 7 | batagay-alyta\n",
      "Processing Record 374 of set 7 | suntar\n",
      "Processing Record 375 of set 7 | pyapon\n",
      "Processing Record 376 of set 7 | santa rosa\n",
      "Processing Record 377 of set 7 | udaipura\n",
      "Processing Record 378 of set 7 | warrnambool\n",
      "City not found. Skipping\n",
      "Processing Record 380 of set 7 | sindor\n",
      "Processing Record 381 of set 7 | kushima\n",
      "Processing Record 382 of set 7 | simao\n",
      "Processing Record 383 of set 7 | waddan\n",
      "Processing Record 384 of set 7 | queanbeyan\n",
      "Processing Record 385 of set 8 | thinadhoo\n",
      "Processing Record 386 of set 8 | volksrust\n",
      "Processing Record 387 of set 8 | orange cove\n",
      "Processing Record 388 of set 8 | pechenga\n",
      "Processing Record 389 of set 8 | bam\n",
      "City not found. Skipping\n",
      "Processing Record 391 of set 8 | xuddur\n",
      "Processing Record 392 of set 8 | zyryanka\n",
      "Processing Record 393 of set 8 | itaituba\n",
      "Processing Record 394 of set 8 | maridi\n",
      "Processing Record 395 of set 8 | manavgat\n",
      "Processing Record 396 of set 8 | kalghatgi\n",
      "Processing Record 397 of set 8 | gouyave\n",
      "Processing Record 398 of set 8 | bhabua\n",
      "Processing Record 399 of set 8 | petropavlovka\n",
      "Processing Record 400 of set 8 | kinablangan\n",
      "Processing Record 401 of set 8 | port moresby\n",
      "Processing Record 402 of set 8 | angoram\n",
      "Processing Record 403 of set 8 | meadow lake\n"
     ]
    },
    {
     "name": "stdout",
     "output_type": "stream",
     "text": [
      "Processing Record 404 of set 8 | truth or consequences\n",
      "Processing Record 405 of set 8 | laranjeiras do sul\n",
      "Processing Record 406 of set 8 | qurayyat\n",
      "City not found. Skipping\n",
      "Processing Record 408 of set 8 | mao\n",
      "Processing Record 409 of set 8 | khorixas\n",
      "Processing Record 410 of set 8 | porto novo\n",
      "City not found. Skipping\n",
      "Processing Record 412 of set 8 | nizhniy kuranakh\n",
      "Processing Record 413 of set 8 | arrecife\n",
      "Processing Record 414 of set 8 | talikota\n",
      "Processing Record 415 of set 8 | la palma\n",
      "Processing Record 416 of set 8 | challans\n",
      "Processing Record 417 of set 8 | aragarcas\n",
      "Processing Record 418 of set 8 | savalou\n",
      "Processing Record 419 of set 8 | colac\n",
      "Processing Record 420 of set 8 | feldkirchen\n",
      "Processing Record 421 of set 8 | yerbogachen\n",
      "Processing Record 422 of set 8 | forbes\n",
      "Processing Record 423 of set 8 | teya\n",
      "Processing Record 424 of set 8 | craig\n",
      "Processing Record 425 of set 8 | tokonou\n",
      "Processing Record 426 of set 8 | lesogorsk\n",
      "Processing Record 427 of set 8 | rubiera\n",
      "Processing Record 428 of set 8 | new glasgow\n",
      "Processing Record 429 of set 8 | astorga\n",
      "Processing Record 430 of set 8 | longmont\n",
      "Processing Record 431 of set 8 | dolinsk\n",
      "Processing Record 432 of set 8 | lewiston\n",
      "Processing Record 433 of set 8 | san andres\n",
      "Processing Record 434 of set 8 | taltal\n",
      "Processing Record 435 of set 8 | valleyview\n",
      "Processing Record 436 of set 8 | ardakan\n",
      "Processing Record 437 of set 8 | kikerino\n",
      "Processing Record 438 of set 8 | caceres\n",
      "Processing Record 439 of set 9 | flin flon\n",
      "Processing Record 440 of set 9 | yarim\n",
      "Processing Record 441 of set 9 | alcamo\n",
      "Processing Record 442 of set 9 | novoagansk\n",
      "Processing Record 443 of set 9 | harsewinkel\n",
      "Processing Record 444 of set 9 | calama\n",
      "City not found. Skipping\n",
      "Processing Record 446 of set 9 | dicabisagan\n",
      "Processing Record 447 of set 9 | lokosovo\n",
      "Processing Record 448 of set 9 | pangody\n",
      "Processing Record 449 of set 9 | san ramon\n",
      "Processing Record 450 of set 9 | azul\n",
      "Processing Record 451 of set 9 | qasigiannguit\n",
      "Processing Record 452 of set 9 | nkwerre\n",
      "Processing Record 453 of set 9 | polur\n",
      "Processing Record 454 of set 9 | atherton\n",
      "Processing Record 455 of set 9 | safaga\n",
      "Processing Record 456 of set 9 | shuya\n",
      "Processing Record 457 of set 9 | lannion\n",
      "Processing Record 458 of set 9 | mantua\n",
      "Processing Record 459 of set 9 | porto walter\n",
      "Processing Record 460 of set 9 | rio casca\n",
      "Processing Record 461 of set 9 | akdepe\n",
      "Processing Record 462 of set 9 | maldonado\n",
      "Processing Record 463 of set 9 | ariquemes\n",
      "Processing Record 464 of set 9 | barreiras\n",
      "Processing Record 465 of set 9 | kaura namoda\n",
      "Processing Record 466 of set 9 | basco\n",
      "City not found. Skipping\n",
      "Processing Record 468 of set 9 | bambanglipuro\n",
      "Processing Record 469 of set 9 | boa vista\n",
      "Processing Record 470 of set 9 | ha noi\n",
      "City not found. Skipping\n",
      "Processing Record 472 of set 9 | carauari\n",
      "Processing Record 473 of set 9 | mizan teferi\n",
      "Processing Record 474 of set 9 | channel-port aux basques\n",
      "Processing Record 475 of set 9 | larsnes\n",
      "Processing Record 476 of set 9 | ostersund\n",
      "City not found. Skipping\n",
      "Processing Record 478 of set 9 | santiago\n",
      "City not found. Skipping\n",
      "Processing Record 480 of set 9 | vavozh\n",
      "Processing Record 481 of set 9 | dzhebariki-khaya\n",
      "Processing Record 482 of set 9 | togitsu\n",
      "Processing Record 483 of set 9 | turan\n",
      "Processing Record 484 of set 9 | coruripe\n",
      "Processing Record 485 of set 9 | dajal\n",
      "Processing Record 486 of set 9 | lichtenburg\n",
      "Processing Record 487 of set 9 | pilar\n",
      "Processing Record 488 of set 9 | evansville\n",
      "Processing Record 489 of set 9 | esenyurt\n",
      "Processing Record 490 of set 9 | tambacounda\n",
      "Processing Record 491 of set 9 | kysyl-syr\n",
      "Processing Record 492 of set 9 | bestobe\n",
      "Processing Record 493 of set 9 | arica\n",
      "Processing Record 494 of set 9 | rajsamand\n",
      "Processing Record 495 of set 10 | nautla\n",
      "Processing Record 496 of set 10 | porto belo\n",
      "Processing Record 497 of set 10 | qandala\n",
      "Processing Record 498 of set 10 | sicamous\n",
      "Processing Record 499 of set 10 | borogontsy\n",
      "Processing Record 500 of set 10 | neos marmaras\n",
      "Processing Record 501 of set 10 | carutapera\n",
      "Processing Record 502 of set 10 | saint-francois\n",
      "Processing Record 503 of set 10 | pemangkat\n",
      "Processing Record 504 of set 10 | nivala\n",
      "Processing Record 505 of set 10 | abeche\n",
      "Processing Record 506 of set 10 | hachinohe\n",
      "Processing Record 507 of set 10 | rodino\n",
      "Processing Record 508 of set 10 | kalaleh\n",
      "City not found. Skipping\n",
      "Processing Record 510 of set 10 | omsukchan\n",
      "Processing Record 511 of set 10 | horizontina\n",
      "Processing Record 512 of set 10 | dosso\n",
      "Processing Record 513 of set 10 | college\n",
      "Processing Record 514 of set 10 | gueugnon\n",
      "Processing Record 515 of set 10 | kyra\n",
      "Processing Record 516 of set 10 | mporokoso\n",
      "Processing Record 517 of set 10 | agustin codazzi\n",
      "Processing Record 518 of set 10 | kabwe\n",
      "Processing Record 519 of set 10 | san jose\n",
      "Processing Record 520 of set 10 | buin\n",
      "Processing Record 521 of set 10 | yaan\n",
      "Processing Record 522 of set 10 | melbu\n",
      "Processing Record 523 of set 10 | kiruna\n",
      "Processing Record 524 of set 10 | yeghegnavan\n",
      "Processing Record 525 of set 10 | kishapu\n",
      "Processing Record 526 of set 10 | fare\n",
      "Processing Record 527 of set 10 | palora\n",
      "Processing Record 528 of set 10 | husavik\n",
      "Processing Record 529 of set 10 | trincomalee\n",
      "City not found. Skipping\n",
      "Processing Record 531 of set 10 | asau\n",
      "Processing Record 532 of set 10 | urusha\n",
      "Processing Record 533 of set 10 | yelan\n",
      "Processing Record 534 of set 10 | dargaville\n",
      "Processing Record 535 of set 10 | glendive\n",
      "Processing Record 536 of set 10 | oliver\n",
      "Processing Record 537 of set 10 | jaszapati\n",
      "Processing Record 538 of set 10 | rensvik\n",
      "Processing Record 539 of set 10 | mandera\n",
      "Processing Record 540 of set 10 | gigmoto\n",
      "Processing Record 541 of set 10 | northam\n",
      "Processing Record 542 of set 10 | ballina\n",
      "Processing Record 543 of set 10 | workington\n",
      "Processing Record 544 of set 10 | maceira\n",
      "Processing Record 545 of set 10 | goure\n",
      "Processing Record 546 of set 10 | altar\n",
      "Processing Record 547 of set 10 | luwuk\n",
      "Processing Record 548 of set 11 | isla vista\n",
      "Processing Record 549 of set 11 | emerald\n",
      "Processing Record 550 of set 11 | lasa\n",
      "Processing Record 551 of set 11 | januaria\n",
      "Processing Record 552 of set 11 | wilmington\n",
      "Processing Record 553 of set 11 | cam ranh\n",
      "Processing Record 554 of set 11 | pervomayskoye\n",
      "Processing Record 555 of set 11 | camopi\n",
      "Processing Record 556 of set 11 | nara\n",
      "Processing Record 557 of set 11 | diego de almagro\n",
      "Processing Record 558 of set 11 | urumqi\n",
      "Processing Record 559 of set 11 | pecos\n",
      "Processing Record 560 of set 11 | finale ligure\n",
      "Processing Record 561 of set 11 | longonjo\n",
      "Processing Record 562 of set 11 | remedios\n",
      "Processing Record 563 of set 11 | sharlyk\n",
      "Processing Record 564 of set 11 | rovaniemi\n",
      "Processing Record 565 of set 11 | sidhi\n",
      "Processing Record 566 of set 11 | sarh\n",
      "Processing Record 567 of set 11 | manadhoo\n",
      "Processing Record 568 of set 11 | novyy urgal\n",
      "Processing Record 569 of set 11 | stettler\n",
      "Processing Record 570 of set 11 | bertoua\n",
      "City not found. Skipping\n",
      "Processing Record 572 of set 11 | serro\n",
      "Processing Record 573 of set 11 | zhangjiakou\n",
      "Processing Record 574 of set 11 | teculutan\n",
      "Processing Record 575 of set 11 | azare\n",
      "Processing Record 576 of set 11 | eydhafushi\n",
      "City not found. Skipping\n",
      "Processing Record 578 of set 11 | iracoubo\n",
      "City not found. Skipping\n",
      "Processing Record 580 of set 11 | aloleng\n",
      "Processing Record 581 of set 11 | rio grande\n",
      "Processing Record 582 of set 11 | bandarbeyla\n",
      "Processing Record 583 of set 11 | skvyra\n",
      "Processing Record 584 of set 11 | kolokani\n",
      "Processing Record 585 of set 11 | tank\n",
      "Processing Record 586 of set 11 | oskemen\n",
      "Processing Record 587 of set 11 | hohhot\n",
      "Processing Record 588 of set 11 | shashi\n",
      "Processing Record 589 of set 11 | clarence town\n",
      "City not found. Skipping\n",
      "Processing Record 591 of set 11 | neuquen\n",
      "Processing Record 592 of set 11 | oriximina\n",
      "Processing Record 593 of set 11 | venado tuerto\n",
      "Processing Record 594 of set 11 | bukachacha\n",
      "Processing Record 595 of set 11 | lora del rio\n",
      "Processing Record 596 of set 11 | challapata\n",
      "Processing Record 597 of set 11 | cap malheureux\n",
      "Processing Record 598 of set 11 | linjiang\n",
      "Processing Record 599 of set 11 | kollam\n",
      "Processing Record 600 of set 11 | bondoukou\n",
      "Processing Record 601 of set 11 | wamba\n",
      "Processing Record 602 of set 11 | quelimane\n"
     ]
    },
    {
     "name": "stdout",
     "output_type": "stream",
     "text": [
      "Processing Record 603 of set 12 | staryy nadym\n",
      "City not found. Skipping\n",
      "Processing Record 605 of set 12 | port macquarie\n",
      "Processing Record 606 of set 12 | cleveland\n",
      "Processing Record 607 of set 12 | kalangala\n",
      "Processing Record 608 of set 12 | cabra\n",
      "Processing Record 609 of set 12 | todos santos\n",
      "Processing Record 610 of set 12 | ust-kuyga\n",
      "Processing Record 611 of set 12 | iquitos\n",
      "Processing Record 612 of set 12 | temba\n",
      "Processing Record 613 of set 12 | sendafa\n",
      "Processing Record 614 of set 12 | mandla\n",
      "Processing Record 615 of set 12 | speightstown\n",
      "Processing Record 616 of set 12 | oksfjord\n",
      "Processing Record 617 of set 12 | cuenca\n",
      "Processing Record 618 of set 12 | jumla\n",
      "Processing Record 619 of set 12 | chulman\n",
      "Processing Record 620 of set 12 | shitkino\n",
      "Processing Record 621 of set 12 | vredendal\n",
      "Processing Record 622 of set 12 | raha\n",
      "Processing Record 623 of set 12 | reconquista\n",
      "Processing Record 624 of set 12 | shiloh\n",
      "Processing Record 625 of set 12 | lima duarte\n",
      "Processing Record 626 of set 12 | fort morgan\n",
      "Processing Record 627 of set 12 | abbeville\n",
      "City not found. Skipping\n",
      "City not found. Skipping\n",
      "Processing Record 630 of set 12 | omboue\n",
      "Processing Record 631 of set 12 | quthing\n",
      "Processing Record 632 of set 12 | sioux lookout\n",
      "Processing Record 633 of set 12 | mayor pablo lagerenza\n",
      "Processing Record 634 of set 12 | dezhou\n",
      "Processing Record 635 of set 12 | north myrtle beach\n",
      "City not found. Skipping\n",
      "Processing Record 637 of set 12 | obihiro\n",
      "Processing Record 638 of set 12 | mkushi\n",
      "Processing Record 639 of set 12 | vydrino\n",
      "City not found. Skipping\n",
      "Processing Record 641 of set 12 | sembe\n",
      "Processing Record 642 of set 12 | mezen\n",
      "Processing Record 643 of set 12 | eregli\n",
      "Processing Record 644 of set 12 | dutse\n",
      "Processing Record 645 of set 12 | niquero\n",
      "Processing Record 646 of set 12 | beni\n",
      "Processing Record 647 of set 12 | jeremie\n",
      "Processing Record 648 of set 12 | novyy urengoy\n",
      "Processing Record 649 of set 12 | natal\n",
      "Processing Record 650 of set 12 | burns lake\n",
      "Processing Record 651 of set 12 | bhuj\n",
      "Processing Record 652 of set 12 | sur\n",
      "Processing Record 653 of set 12 | shenjiamen\n",
      "Processing Record 654 of set 12 | bonthe\n",
      "Processing Record 655 of set 12 | iquique\n",
      "City not found. Skipping\n",
      "Processing Record 657 of set 12 | holbeach\n",
      "Processing Record 658 of set 12 | buluang\n",
      "Processing Record 659 of set 12 | mastic beach\n",
      "City not found. Skipping\n",
      "Processing Record 661 of set 13 | newport\n",
      "Processing Record 662 of set 13 | tezu\n",
      "Processing Record 663 of set 13 | ozernovskiy\n",
      "Processing Record 664 of set 13 | nehe\n",
      "Processing Record 665 of set 13 | pasighat\n",
      "Processing Record 666 of set 13 | raga\n",
      "Processing Record 667 of set 13 | spearfish\n",
      "Processing Record 668 of set 13 | casa nova\n",
      "Processing Record 669 of set 13 | ust-kut\n",
      "Processing Record 670 of set 13 | eyrarbakki\n",
      "Processing Record 671 of set 13 | kandrian\n",
      "Processing Record 672 of set 13 | sedro-woolley\n",
      "City not found. Skipping\n",
      "Processing Record 674 of set 13 | gilbues\n",
      "Processing Record 675 of set 13 | urengoy\n",
      "Processing Record 676 of set 13 | poyarkovo\n",
      "Processing Record 677 of set 13 | jertih\n",
      "Processing Record 678 of set 13 | kayan\n",
      "Processing Record 679 of set 13 | lincoln\n",
      "Processing Record 680 of set 13 | champerico\n",
      "Processing Record 681 of set 13 | cicero dantas\n",
      "Processing Record 682 of set 13 | sabla\n",
      "Processing Record 683 of set 13 | ypsonas\n",
      "Processing Record 684 of set 13 | changji\n",
      "Processing Record 685 of set 13 | nurobod\n",
      "City not found. Skipping\n",
      "Processing Record 687 of set 13 | noumea\n",
      "Processing Record 688 of set 13 | gizo\n",
      "Processing Record 689 of set 13 | traverse city\n",
      "Processing Record 690 of set 13 | pitsunda\n",
      "Processing Record 691 of set 13 | eureka\n",
      "Processing Record 692 of set 13 | shebalino\n",
      "Processing Record 693 of set 13 | dandong\n",
      "Processing Record 694 of set 13 | bonnyville\n",
      "Processing Record 695 of set 13 | pimentel\n",
      "Processing Record 696 of set 13 | kasungu\n",
      "Processing Record 697 of set 13 | biloela\n",
      "Processing Record 698 of set 13 | uusikaupunki\n",
      "Processing Record 699 of set 13 | severomuysk\n",
      "Processing Record 700 of set 13 | kurilsk\n",
      "Processing Record 701 of set 13 | stepnoye\n",
      "Processing Record 702 of set 13 | jiayuguan\n",
      "City not found. Skipping\n",
      "Processing Record 704 of set 13 | antigonish\n",
      "Processing Record 705 of set 13 | temir\n",
      "Processing Record 706 of set 13 | hirara\n",
      "Processing Record 707 of set 13 | atambua\n",
      "Processing Record 708 of set 13 | pasni\n",
      "Processing Record 709 of set 13 | almaznyy\n",
      "Processing Record 710 of set 13 | baoqing\n",
      "Processing Record 711 of set 13 | warrington\n",
      "Processing Record 712 of set 13 | eldorado\n",
      "Processing Record 713 of set 13 | chibombo\n",
      "Processing Record 714 of set 13 | great falls\n",
      "Processing Record 715 of set 14 | christchurch\n",
      "Processing Record 716 of set 14 | irun\n",
      "Processing Record 717 of set 14 | mahenge\n",
      "Processing Record 718 of set 14 | seymchan\n",
      "Processing Record 719 of set 14 | nagato\n",
      "Processing Record 720 of set 14 | wad madani\n",
      "Processing Record 721 of set 14 | swan river\n",
      "Processing Record 722 of set 14 | marsh harbour\n",
      "Processing Record 723 of set 14 | bella union\n",
      "Processing Record 724 of set 14 | shwebo\n",
      "Processing Record 725 of set 14 | amberley\n",
      "Processing Record 726 of set 14 | esmeraldas\n",
      "Processing Record 727 of set 14 | san cristobal\n",
      "Processing Record 728 of set 14 | gusinoye ozero\n",
      "Processing Record 729 of set 14 | hellvik\n",
      "Processing Record 730 of set 14 | karasburg\n",
      "Processing Record 731 of set 14 | barra\n",
      "Processing Record 732 of set 14 | sept-iles\n",
      "City not found. Skipping\n",
      "Processing Record 734 of set 14 | regina\n",
      "Processing Record 735 of set 14 | zeya\n",
      "Processing Record 736 of set 14 | rotenburg\n",
      "Processing Record 737 of set 14 | acajutla\n",
      "City not found. Skipping\n",
      "Processing Record 739 of set 14 | bardiyah\n",
      "Processing Record 740 of set 14 | north platte\n",
      "Processing Record 741 of set 14 | carbonia\n",
      "Processing Record 742 of set 14 | acurenam\n",
      "Processing Record 743 of set 14 | lanquin\n",
      "Processing Record 744 of set 14 | bonavista\n",
      "Processing Record 745 of set 14 | salamiyah\n",
      "Processing Record 746 of set 14 | la teste-de-buch\n",
      "Processing Record 747 of set 14 | chitral\n",
      "Processing Record 748 of set 14 | bull savanna\n",
      "Processing Record 749 of set 14 | cairns\n",
      "Processing Record 750 of set 14 | gympie\n",
      "Processing Record 751 of set 14 | baruun-urt\n",
      "Processing Record 752 of set 14 | tautira\n",
      "Processing Record 753 of set 14 | troutdale\n",
      "Processing Record 754 of set 14 | kargil\n",
      "Processing Record 755 of set 14 | puerto quijarro\n",
      "Processing Record 756 of set 14 | luziania\n",
      "Processing Record 757 of set 14 | phonhong\n",
      "Processing Record 758 of set 14 | kozhva\n",
      "Processing Record 759 of set 14 | marathon\n",
      "Processing Record 760 of set 14 | corner brook\n",
      "Processing Record 761 of set 14 | kolobovo\n",
      "Processing Record 762 of set 14 | bushehr\n",
      "Processing Record 763 of set 14 | saint pete beach\n",
      "Processing Record 764 of set 14 | nantucket\n",
      "Processing Record 765 of set 14 | pitimbu\n",
      "Processing Record 766 of set 14 | kralendijk\n",
      "City not found. Skipping\n",
      "Processing Record 768 of set 14 | bafra\n",
      "Processing Record 769 of set 15 | tochigi\n",
      "Processing Record 770 of set 15 | ambilobe\n",
      "Processing Record 771 of set 15 | puri\n",
      "Processing Record 772 of set 15 | isangel\n",
      "Processing Record 773 of set 15 | maraa\n",
      "Processing Record 774 of set 15 | seoul\n",
      "Processing Record 775 of set 15 | trairi\n",
      "Processing Record 776 of set 15 | nogliki\n",
      "Processing Record 777 of set 15 | ozinki\n",
      "Processing Record 778 of set 15 | rundu\n",
      "Processing Record 779 of set 15 | goma\n",
      "Processing Record 780 of set 15 | ellisras\n",
      "Processing Record 781 of set 15 | jawhar\n",
      "Processing Record 782 of set 15 | algiers\n"
     ]
    }
   ],
   "source": [
    "#Perform a weather check on each city using a series of successive API calls.\n",
    "\n",
    "base_url = \"http://api.openweathermap.org/data/2.5/weather?\"\n",
    "count=0\n",
    "\n",
    "#Units\n",
    "unit = \"imperial\"\n",
    "\n",
    "#df_countries.set_value(index,'Temperature (F)',country_info['list'][0]['main']['temp'])\n",
    "\n",
    "clean_city_df\n",
    "city_to_find=[]\n",
    "\n",
    "temperature=[]\n",
    "humidity=[]\n",
    "cloudiness=[]\n",
    "wind_speed=[]\n",
    "lat=[]\n",
    "lon=[]\n",
    "country=[]\n",
    "date=[]\n",
    "group = 1\n",
    "number_city = 0\n",
    "\n",
    "for index, row in clean_city_df.iterrows():\n",
    "    \n",
    "    count = count+1\n",
    "    \n",
    "    city_to_find = str(row['City Name'])\n",
    "    \n",
    "    #Build query URL\n",
    "    querly_url = (base_url + \"appid=\" + weather_api_key + \"&q=\" + city_to_find+\"&units=\" + unit).format(city_to_find,weather_api_key)\n",
    "    \n",
    "    \n",
    "    # Get weather data\n",
    "    city_response = requests.get(querly_url)\n",
    "    city_json = city_response.json()\n",
    "    \n",
    "    try:\n",
    "        lat.append(city_json['coord']['lat'])\n",
    "        lon.append(city_json['coord']['lon'])\n",
    "        country.append(city_json['sys']['country'])\n",
    "        temperature.append(city_json['main']['temp_max'])\n",
    "        humidity.append(city_json['main']['humidity'])\n",
    "        cloudiness.append(city_json['clouds']['all'])\n",
    "        wind_speed.append(city_json['wind']['speed'])\n",
    "        date.append(city_json['dt'])\n",
    "        #print(f\"Processing Record {count} of set | {city_to_find}\")\n",
    "        \n",
    "        #Assining cities to groups \n",
    "        if number_city > 49:\n",
    "            number_city = 0\n",
    "            group = group + 1\n",
    "        else:\n",
    "            number_city = number_city + 1\n",
    "        \n",
    "        print(f\"Processing Record {count} of set {group} | {city_to_find}\")\n",
    "        \n",
    "    # Handle exceptions for a character that is not available in the Star Wars API\n",
    "    except:\n",
    "        # Append null values\n",
    "        lat.append(np.nan)\n",
    "        lon.append(np.nan)\n",
    "        country.append(np.nan)\n",
    "        temperature.append(np.nan)\n",
    "        humidity.append(np.nan)\n",
    "        cloudiness.append(np.nan)\n",
    "        wind_speed.append(np.nan)        \n",
    "        date.append(np.nan)\n",
    "        \n",
    "        print(\"City not found. Skipping\")\n",
    "        pass\n",
    "    "
   ]
  },
  {
   "cell_type": "markdown",
   "metadata": {},
   "source": [
    "### Convert Raw Data to DataFrame\n",
    "* Export the city data into a .csv.\n",
    "* Display the DataFrame"
   ]
  },
  {
   "cell_type": "code",
   "execution_count": 22,
   "metadata": {},
   "outputs": [
    {
     "data": {
      "text/plain": [
       "City Name     727\n",
       "Lat           727\n",
       "Lng           727\n",
       "Max Temp      727\n",
       "Humidity      727\n",
       "Cloudiness    727\n",
       "Wind Speed    727\n",
       "Country       727\n",
       "Date          727\n",
       "dtype: int64"
      ]
     },
     "execution_count": 22,
     "metadata": {},
     "output_type": "execute_result"
    }
   ],
   "source": [
    "#Adding values to DataFrame\n",
    "clean_city_df.insert(1, \"Lat\", lat, True)\n",
    "clean_city_df.insert(2, \"Lng\", lon, True)\n",
    "clean_city_df.insert(3, \"Max Temp\", temperature, True)\n",
    "clean_city_df.insert(4, \"Humidity\", humidity, True)\n",
    "clean_city_df.insert(5, \"Cloudiness\", cloudiness, True)\n",
    "clean_city_df.insert(6, \"Wind Speed\", wind_speed, True)\n",
    "clean_city_df.insert(7, \"Country\", country, True)\n",
    "clean_city_df.insert(8, \"Date\", date, True)\n",
    "\n",
    "clean_city_df.head(10) #values+Nan\n",
    "\n",
    "# removing Cities with Nan values\n",
    "clean_city_df_analise = clean_city_df.dropna(how=\"any\")\n",
    "clean_city_df_analise.count()"
   ]
  },
  {
   "cell_type": "code",
   "execution_count": 25,
   "metadata": {
    "scrolled": true
   },
   "outputs": [
    {
     "data": {
      "text/html": [
       "<div>\n",
       "<style scoped>\n",
       "    .dataframe tbody tr th:only-of-type {\n",
       "        vertical-align: middle;\n",
       "    }\n",
       "\n",
       "    .dataframe tbody tr th {\n",
       "        vertical-align: top;\n",
       "    }\n",
       "\n",
       "    .dataframe thead th {\n",
       "        text-align: right;\n",
       "    }\n",
       "</style>\n",
       "<table border=\"1\" class=\"dataframe\">\n",
       "  <thead>\n",
       "    <tr style=\"text-align: right;\">\n",
       "      <th></th>\n",
       "      <th>City Name</th>\n",
       "      <th>Lat</th>\n",
       "      <th>Lng</th>\n",
       "      <th>Max Temp</th>\n",
       "      <th>Humidity</th>\n",
       "      <th>Cloudiness</th>\n",
       "      <th>Wind Speed</th>\n",
       "      <th>Country</th>\n",
       "      <th>Date</th>\n",
       "    </tr>\n",
       "  </thead>\n",
       "  <tbody>\n",
       "    <tr>\n",
       "      <th>0</th>\n",
       "      <td>taihe</td>\n",
       "      <td>30.87</td>\n",
       "      <td>105.38</td>\n",
       "      <td>56.84</td>\n",
       "      <td>80.0</td>\n",
       "      <td>67.0</td>\n",
       "      <td>3.13</td>\n",
       "      <td>CN</td>\n",
       "      <td>1.603228e+09</td>\n",
       "    </tr>\n",
       "    <tr>\n",
       "      <th>2</th>\n",
       "      <td>mitu</td>\n",
       "      <td>1.20</td>\n",
       "      <td>-70.17</td>\n",
       "      <td>81.05</td>\n",
       "      <td>90.0</td>\n",
       "      <td>99.0</td>\n",
       "      <td>2.01</td>\n",
       "      <td>CO</td>\n",
       "      <td>1.603228e+09</td>\n",
       "    </tr>\n",
       "    <tr>\n",
       "      <th>16</th>\n",
       "      <td>mawlaik</td>\n",
       "      <td>23.63</td>\n",
       "      <td>94.42</td>\n",
       "      <td>72.81</td>\n",
       "      <td>94.0</td>\n",
       "      <td>90.0</td>\n",
       "      <td>1.10</td>\n",
       "      <td>MM</td>\n",
       "      <td>1.603228e+09</td>\n",
       "    </tr>\n",
       "    <tr>\n",
       "      <th>19</th>\n",
       "      <td>reyes</td>\n",
       "      <td>-14.32</td>\n",
       "      <td>-67.38</td>\n",
       "      <td>91.40</td>\n",
       "      <td>70.0</td>\n",
       "      <td>75.0</td>\n",
       "      <td>11.41</td>\n",
       "      <td>BO</td>\n",
       "      <td>1.603228e+09</td>\n",
       "    </tr>\n",
       "    <tr>\n",
       "      <th>25</th>\n",
       "      <td>vesyegonsk</td>\n",
       "      <td>58.66</td>\n",
       "      <td>37.26</td>\n",
       "      <td>30.11</td>\n",
       "      <td>96.0</td>\n",
       "      <td>16.0</td>\n",
       "      <td>8.41</td>\n",
       "      <td>RU</td>\n",
       "      <td>1.603228e+09</td>\n",
       "    </tr>\n",
       "  </tbody>\n",
       "</table>\n",
       "</div>"
      ],
      "text/plain": [
       "     City Name    Lat     Lng  Max Temp  Humidity  Cloudiness  Wind Speed  \\\n",
       "0        taihe  30.87  105.38     56.84      80.0        67.0        3.13   \n",
       "2         mitu   1.20  -70.17     81.05      90.0        99.0        2.01   \n",
       "16     mawlaik  23.63   94.42     72.81      94.0        90.0        1.10   \n",
       "19       reyes -14.32  -67.38     91.40      70.0        75.0       11.41   \n",
       "25  vesyegonsk  58.66   37.26     30.11      96.0        16.0        8.41   \n",
       "\n",
       "   Country          Date  \n",
       "0       CN  1.603228e+09  \n",
       "2       CO  1.603228e+09  \n",
       "16      MM  1.603228e+09  \n",
       "19      BO  1.603228e+09  \n",
       "25      RU  1.603228e+09  "
      ]
     },
     "execution_count": 25,
     "metadata": {},
     "output_type": "execute_result"
    }
   ],
   "source": [
    "#Printing DataFrame\n",
    "clean_city_df_analise.head()"
   ]
  },
  {
   "cell_type": "code",
   "execution_count": 26,
   "metadata": {
    "scrolled": true
   },
   "outputs": [
    {
     "data": {
      "text/html": [
       "<div>\n",
       "<style scoped>\n",
       "    .dataframe tbody tr th:only-of-type {\n",
       "        vertical-align: middle;\n",
       "    }\n",
       "\n",
       "    .dataframe tbody tr th {\n",
       "        vertical-align: top;\n",
       "    }\n",
       "\n",
       "    .dataframe thead th {\n",
       "        text-align: right;\n",
       "    }\n",
       "</style>\n",
       "<table border=\"1\" class=\"dataframe\">\n",
       "  <thead>\n",
       "    <tr style=\"text-align: right;\">\n",
       "      <th></th>\n",
       "      <th>Lat</th>\n",
       "      <th>Lng</th>\n",
       "      <th>Max Temp</th>\n",
       "      <th>Humidity</th>\n",
       "      <th>Cloudiness</th>\n",
       "      <th>Wind Speed</th>\n",
       "      <th>Date</th>\n",
       "    </tr>\n",
       "  </thead>\n",
       "  <tbody>\n",
       "    <tr>\n",
       "      <th>count</th>\n",
       "      <td>727.000000</td>\n",
       "      <td>727.000000</td>\n",
       "      <td>727.000000</td>\n",
       "      <td>727.000000</td>\n",
       "      <td>727.000000</td>\n",
       "      <td>727.000000</td>\n",
       "      <td>7.270000e+02</td>\n",
       "    </tr>\n",
       "    <tr>\n",
       "      <th>mean</th>\n",
       "      <td>23.238528</td>\n",
       "      <td>19.551334</td>\n",
       "      <td>61.944649</td>\n",
       "      <td>71.005502</td>\n",
       "      <td>55.031637</td>\n",
       "      <td>7.151499</td>\n",
       "      <td>1.603228e+09</td>\n",
       "    </tr>\n",
       "    <tr>\n",
       "      <th>std</th>\n",
       "      <td>28.961143</td>\n",
       "      <td>80.877464</td>\n",
       "      <td>20.641104</td>\n",
       "      <td>23.323807</td>\n",
       "      <td>39.200767</td>\n",
       "      <td>5.051998</td>\n",
       "      <td>1.328633e+02</td>\n",
       "    </tr>\n",
       "    <tr>\n",
       "      <th>min</th>\n",
       "      <td>-43.530000</td>\n",
       "      <td>-158.010000</td>\n",
       "      <td>4.530000</td>\n",
       "      <td>6.000000</td>\n",
       "      <td>0.000000</td>\n",
       "      <td>0.160000</td>\n",
       "      <td>1.603228e+09</td>\n",
       "    </tr>\n",
       "    <tr>\n",
       "      <th>25%</th>\n",
       "      <td>0.315000</td>\n",
       "      <td>-54.345000</td>\n",
       "      <td>46.120000</td>\n",
       "      <td>59.000000</td>\n",
       "      <td>16.500000</td>\n",
       "      <td>3.410000</td>\n",
       "      <td>1.603228e+09</td>\n",
       "    </tr>\n",
       "    <tr>\n",
       "      <th>50%</th>\n",
       "      <td>27.930000</td>\n",
       "      <td>26.750000</td>\n",
       "      <td>66.940000</td>\n",
       "      <td>78.000000</td>\n",
       "      <td>68.000000</td>\n",
       "      <td>5.820000</td>\n",
       "      <td>1.603228e+09</td>\n",
       "    </tr>\n",
       "    <tr>\n",
       "      <th>75%</th>\n",
       "      <td>48.125000</td>\n",
       "      <td>81.045000</td>\n",
       "      <td>78.800000</td>\n",
       "      <td>88.000000</td>\n",
       "      <td>95.000000</td>\n",
       "      <td>9.370000</td>\n",
       "      <td>1.603228e+09</td>\n",
       "    </tr>\n",
       "    <tr>\n",
       "      <th>max</th>\n",
       "      <td>70.860000</td>\n",
       "      <td>178.000000</td>\n",
       "      <td>102.200000</td>\n",
       "      <td>100.000000</td>\n",
       "      <td>100.000000</td>\n",
       "      <td>32.210000</td>\n",
       "      <td>1.603228e+09</td>\n",
       "    </tr>\n",
       "  </tbody>\n",
       "</table>\n",
       "</div>"
      ],
      "text/plain": [
       "              Lat         Lng    Max Temp    Humidity  Cloudiness  Wind Speed  \\\n",
       "count  727.000000  727.000000  727.000000  727.000000  727.000000  727.000000   \n",
       "mean    23.238528   19.551334   61.944649   71.005502   55.031637    7.151499   \n",
       "std     28.961143   80.877464   20.641104   23.323807   39.200767    5.051998   \n",
       "min    -43.530000 -158.010000    4.530000    6.000000    0.000000    0.160000   \n",
       "25%      0.315000  -54.345000   46.120000   59.000000   16.500000    3.410000   \n",
       "50%     27.930000   26.750000   66.940000   78.000000   68.000000    5.820000   \n",
       "75%     48.125000   81.045000   78.800000   88.000000   95.000000    9.370000   \n",
       "max     70.860000  178.000000  102.200000  100.000000  100.000000   32.210000   \n",
       "\n",
       "               Date  \n",
       "count  7.270000e+02  \n",
       "mean   1.603228e+09  \n",
       "std    1.328633e+02  \n",
       "min    1.603228e+09  \n",
       "25%    1.603228e+09  \n",
       "50%    1.603228e+09  \n",
       "75%    1.603228e+09  \n",
       "max    1.603228e+09  "
      ]
     },
     "execution_count": 26,
     "metadata": {},
     "output_type": "execute_result"
    }
   ],
   "source": [
    "#Statistics\n",
    "clean_city_df_analise.describe()\n"
   ]
  },
  {
   "cell_type": "markdown",
   "metadata": {},
   "source": [
    "## Inspect the data and remove the cities where the humidity > 100%.\n",
    "----\n",
    "Skip this step if there are no cities that have humidity > 100%. "
   ]
  },
  {
   "cell_type": "code",
   "execution_count": 27,
   "metadata": {},
   "outputs": [
    {
     "name": "stdout",
     "output_type": "stream",
     "text": [
      "Int64Index([], dtype='int64')\n"
     ]
    },
    {
     "data": {
      "text/plain": [
       "City Name     727\n",
       "Lat           727\n",
       "Lng           727\n",
       "Max Temp      727\n",
       "Humidity      727\n",
       "Cloudiness    727\n",
       "Wind Speed    727\n",
       "Country       727\n",
       "Date          727\n",
       "dtype: int64"
      ]
     },
     "execution_count": 27,
     "metadata": {},
     "output_type": "execute_result"
    }
   ],
   "source": [
    "# Humidity > 100%\n",
    "#clean_city_df_analise['Humidity'].astype(float)\n",
    "clean_city_df_analise.head()\n",
    "\n",
    "#To show Cities with HUmidity > 100\n",
    "\n",
    "to_drop=[]\n",
    "\n",
    "to_drop = clean_city_df_analise.index[clean_city_df_analise['Humidity'] > 100]\n",
    "\n",
    "print(to_drop)\n",
    "\n",
    "clean_city_df_analise\n",
    "clean_city_df_analise.count()"
   ]
  },
  {
   "cell_type": "code",
   "execution_count": 28,
   "metadata": {},
   "outputs": [
    {
     "data": {
      "text/plain": [
       "City Name     727\n",
       "Lat           727\n",
       "Lng           727\n",
       "Max Temp      727\n",
       "Humidity      727\n",
       "Cloudiness    727\n",
       "Wind Speed    727\n",
       "Country       727\n",
       "Date          727\n",
       "dtype: int64"
      ]
     },
     "execution_count": 28,
     "metadata": {},
     "output_type": "execute_result"
    }
   ],
   "source": [
    "# Make a new DataFrame equal to the city data to drop all humidity outliers by index.\n",
    "# Passing \"inplace=False\" will make a copy of the city_data DataFrame, which we call \"clean_city_data\".\n",
    "\n",
    "# Create a clean DataFrame by dropping the Cities with Humidity>100.\n",
    "\n",
    "clean_city_data = clean_city_df_analise[clean_city_df_analise.index.isin(to_drop)==False]\n",
    "clean_city_data\n",
    "clean_city_data.count()\n"
   ]
  },
  {
   "cell_type": "code",
   "execution_count": 29,
   "metadata": {},
   "outputs": [
    {
     "data": {
      "text/html": [
       "<div>\n",
       "<style scoped>\n",
       "    .dataframe tbody tr th:only-of-type {\n",
       "        vertical-align: middle;\n",
       "    }\n",
       "\n",
       "    .dataframe tbody tr th {\n",
       "        vertical-align: top;\n",
       "    }\n",
       "\n",
       "    .dataframe thead th {\n",
       "        text-align: right;\n",
       "    }\n",
       "</style>\n",
       "<table border=\"1\" class=\"dataframe\">\n",
       "  <thead>\n",
       "    <tr style=\"text-align: right;\">\n",
       "      <th></th>\n",
       "      <th>Lat</th>\n",
       "      <th>Lng</th>\n",
       "      <th>Max Temp</th>\n",
       "      <th>Humidity</th>\n",
       "      <th>Cloudiness</th>\n",
       "      <th>Wind Speed</th>\n",
       "      <th>Date</th>\n",
       "    </tr>\n",
       "  </thead>\n",
       "  <tbody>\n",
       "    <tr>\n",
       "      <th>count</th>\n",
       "      <td>727.000000</td>\n",
       "      <td>727.000000</td>\n",
       "      <td>727.000000</td>\n",
       "      <td>727.000000</td>\n",
       "      <td>727.000000</td>\n",
       "      <td>727.000000</td>\n",
       "      <td>7.270000e+02</td>\n",
       "    </tr>\n",
       "    <tr>\n",
       "      <th>mean</th>\n",
       "      <td>23.238528</td>\n",
       "      <td>19.551334</td>\n",
       "      <td>61.944649</td>\n",
       "      <td>71.005502</td>\n",
       "      <td>55.031637</td>\n",
       "      <td>7.151499</td>\n",
       "      <td>1.603228e+09</td>\n",
       "    </tr>\n",
       "    <tr>\n",
       "      <th>std</th>\n",
       "      <td>28.961143</td>\n",
       "      <td>80.877464</td>\n",
       "      <td>20.641104</td>\n",
       "      <td>23.323807</td>\n",
       "      <td>39.200767</td>\n",
       "      <td>5.051998</td>\n",
       "      <td>1.328633e+02</td>\n",
       "    </tr>\n",
       "    <tr>\n",
       "      <th>min</th>\n",
       "      <td>-43.530000</td>\n",
       "      <td>-158.010000</td>\n",
       "      <td>4.530000</td>\n",
       "      <td>6.000000</td>\n",
       "      <td>0.000000</td>\n",
       "      <td>0.160000</td>\n",
       "      <td>1.603228e+09</td>\n",
       "    </tr>\n",
       "    <tr>\n",
       "      <th>25%</th>\n",
       "      <td>0.315000</td>\n",
       "      <td>-54.345000</td>\n",
       "      <td>46.120000</td>\n",
       "      <td>59.000000</td>\n",
       "      <td>16.500000</td>\n",
       "      <td>3.410000</td>\n",
       "      <td>1.603228e+09</td>\n",
       "    </tr>\n",
       "    <tr>\n",
       "      <th>50%</th>\n",
       "      <td>27.930000</td>\n",
       "      <td>26.750000</td>\n",
       "      <td>66.940000</td>\n",
       "      <td>78.000000</td>\n",
       "      <td>68.000000</td>\n",
       "      <td>5.820000</td>\n",
       "      <td>1.603228e+09</td>\n",
       "    </tr>\n",
       "    <tr>\n",
       "      <th>75%</th>\n",
       "      <td>48.125000</td>\n",
       "      <td>81.045000</td>\n",
       "      <td>78.800000</td>\n",
       "      <td>88.000000</td>\n",
       "      <td>95.000000</td>\n",
       "      <td>9.370000</td>\n",
       "      <td>1.603228e+09</td>\n",
       "    </tr>\n",
       "    <tr>\n",
       "      <th>max</th>\n",
       "      <td>70.860000</td>\n",
       "      <td>178.000000</td>\n",
       "      <td>102.200000</td>\n",
       "      <td>100.000000</td>\n",
       "      <td>100.000000</td>\n",
       "      <td>32.210000</td>\n",
       "      <td>1.603228e+09</td>\n",
       "    </tr>\n",
       "  </tbody>\n",
       "</table>\n",
       "</div>"
      ],
      "text/plain": [
       "              Lat         Lng    Max Temp    Humidity  Cloudiness  Wind Speed  \\\n",
       "count  727.000000  727.000000  727.000000  727.000000  727.000000  727.000000   \n",
       "mean    23.238528   19.551334   61.944649   71.005502   55.031637    7.151499   \n",
       "std     28.961143   80.877464   20.641104   23.323807   39.200767    5.051998   \n",
       "min    -43.530000 -158.010000    4.530000    6.000000    0.000000    0.160000   \n",
       "25%      0.315000  -54.345000   46.120000   59.000000   16.500000    3.410000   \n",
       "50%     27.930000   26.750000   66.940000   78.000000   68.000000    5.820000   \n",
       "75%     48.125000   81.045000   78.800000   88.000000   95.000000    9.370000   \n",
       "max     70.860000  178.000000  102.200000  100.000000  100.000000   32.210000   \n",
       "\n",
       "               Date  \n",
       "count  7.270000e+02  \n",
       "mean   1.603228e+09  \n",
       "std    1.328633e+02  \n",
       "min    1.603228e+09  \n",
       "25%    1.603228e+09  \n",
       "50%    1.603228e+09  \n",
       "75%    1.603228e+09  \n",
       "max    1.603228e+09  "
      ]
     },
     "execution_count": 29,
     "metadata": {},
     "output_type": "execute_result"
    }
   ],
   "source": [
    "#Statistics for the final clear dataframe\n",
    "clean_city_data.describe()"
   ]
  },
  {
   "cell_type": "code",
   "execution_count": 32,
   "metadata": {},
   "outputs": [],
   "source": [
    "# Saving city data into a csv file\n",
    "clean_city_data.to_csv(\"output_data/cities.csv\", index = False)\n"
   ]
  },
  {
   "cell_type": "markdown",
   "metadata": {},
   "source": [
    "## Plotting the Data\n",
    "* Use proper labeling of the plots using plot titles (including date of analysis) and axes labels.\n",
    "* Save the plotted figures as .pngs."
   ]
  },
  {
   "cell_type": "markdown",
   "metadata": {},
   "source": [
    "## Latitude vs. Temperature Plot"
   ]
  },
  {
   "cell_type": "code",
   "execution_count": 1,
   "metadata": {},
   "outputs": [
    {
     "ename": "NameError",
     "evalue": "name 'plt' is not defined",
     "output_type": "error",
     "traceback": [
      "\u001b[1;31m---------------------------------------------------------------------------\u001b[0m",
      "\u001b[1;31mNameError\u001b[0m                                 Traceback (most recent call last)",
      "\u001b[1;32m<ipython-input-1-f431b52bdd23>\u001b[0m in \u001b[0;36m<module>\u001b[1;34m\u001b[0m\n\u001b[1;32m----> 1\u001b[1;33m \u001b[0mplt\u001b[0m\u001b[1;33m.\u001b[0m\u001b[0mscatter\u001b[0m\u001b[1;33m(\u001b[0m\u001b[0mclean_city_data\u001b[0m\u001b[1;33m[\u001b[0m\u001b[1;34m'Lat'\u001b[0m\u001b[1;33m]\u001b[0m\u001b[1;33m,\u001b[0m\u001b[0mclean_city_data\u001b[0m\u001b[1;33m[\u001b[0m\u001b[1;34m'Max Temp'\u001b[0m\u001b[1;33m]\u001b[0m\u001b[1;33m,\u001b[0m\u001b[0mcolor\u001b[0m \u001b[1;33m=\u001b[0m \u001b[1;34m'blue'\u001b[0m\u001b[1;33m,\u001b[0m\u001b[0ms\u001b[0m\u001b[1;33m=\u001b[0m\u001b[1;36m20\u001b[0m\u001b[1;33m,\u001b[0m \u001b[0mfacecolor\u001b[0m \u001b[1;33m=\u001b[0m \u001b[1;34m\"steelblue\"\u001b[0m\u001b[1;33m,\u001b[0m \u001b[0medgecolor\u001b[0m \u001b[1;33m=\u001b[0m \u001b[1;34m\"black\"\u001b[0m\u001b[1;33m)\u001b[0m\u001b[1;33m\u001b[0m\u001b[1;33m\u001b[0m\u001b[0m\n\u001b[0m\u001b[0;32m      2\u001b[0m \u001b[0mplt\u001b[0m\u001b[1;33m.\u001b[0m\u001b[0mtitle\u001b[0m\u001b[1;33m(\u001b[0m\u001b[1;34m'City Latitude vs. Max Temperature'\u001b[0m\u001b[1;33m,\u001b[0m\u001b[0mfontsize\u001b[0m\u001b[1;33m=\u001b[0m\u001b[1;33m(\u001b[0m\u001b[1;36m18\u001b[0m\u001b[1;33m)\u001b[0m\u001b[1;33m)\u001b[0m\u001b[1;33m;\u001b[0m\u001b[1;33m\u001b[0m\u001b[1;33m\u001b[0m\u001b[0m\n\u001b[0;32m      3\u001b[0m \u001b[0mplt\u001b[0m\u001b[1;33m.\u001b[0m\u001b[0mxlim\u001b[0m\u001b[1;33m(\u001b[0m\u001b[1;33m-\u001b[0m\u001b[1;36m60\u001b[0m\u001b[1;33m,\u001b[0m\u001b[1;36m90\u001b[0m\u001b[1;33m)\u001b[0m\u001b[1;33m\u001b[0m\u001b[1;33m\u001b[0m\u001b[0m\n\u001b[0;32m      4\u001b[0m \u001b[0mplt\u001b[0m\u001b[1;33m.\u001b[0m\u001b[0mylabel\u001b[0m\u001b[1;33m(\u001b[0m\u001b[1;34m'Max Temperature (F)'\u001b[0m\u001b[1;33m,\u001b[0m\u001b[0mfontsize\u001b[0m\u001b[1;33m=\u001b[0m\u001b[1;33m(\u001b[0m\u001b[1;36m15\u001b[0m\u001b[1;33m)\u001b[0m\u001b[1;33m)\u001b[0m\u001b[1;33m;\u001b[0m\u001b[1;33m\u001b[0m\u001b[1;33m\u001b[0m\u001b[0m\n\u001b[0;32m      5\u001b[0m \u001b[0mplt\u001b[0m\u001b[1;33m.\u001b[0m\u001b[0mxlabel\u001b[0m\u001b[1;33m(\u001b[0m\u001b[1;34m'Latitude'\u001b[0m\u001b[1;33m,\u001b[0m\u001b[0mfontsize\u001b[0m\u001b[1;33m=\u001b[0m\u001b[1;33m(\u001b[0m\u001b[1;36m15\u001b[0m\u001b[1;33m)\u001b[0m\u001b[1;33m)\u001b[0m\u001b[1;33m;\u001b[0m\u001b[1;33m\u001b[0m\u001b[1;33m\u001b[0m\u001b[0m\n",
      "\u001b[1;31mNameError\u001b[0m: name 'plt' is not defined"
     ]
    }
   ],
   "source": [
    "plt.scatter(clean_city_data['Lat'],clean_city_data['Max Temp'],color = 'blue',s=20, facecolor = \"steelblue\", edgecolor = \"black\")\n",
    "plt.title('City Latitude vs. Max Temperature',fontsize=(18));\n",
    "plt.xlim(-60,90)\n",
    "plt.ylabel('Max Temperature (F)',fontsize=(15));\n",
    "plt.xlabel('Latitude',fontsize=(15));\n",
    "\n",
    "# Save the plotted figure as .pngs\n",
    "plt.savefig(\"Images/City_Latitude_vs_Max_Temperature.png\")\n",
    "\n",
    "plt.show()"
   ]
  },
  {
   "cell_type": "code",
   "execution_count": null,
   "metadata": {
    "scrolled": false
   },
   "outputs": [],
   "source": []
  },
  {
   "cell_type": "markdown",
   "metadata": {},
   "source": [
    "## Latitude vs. Humidity Plot"
   ]
  },
  {
   "cell_type": "code",
   "execution_count": 56,
   "metadata": {},
   "outputs": [
    {
     "data": {
      "image/png": "[encoded data removed]",
      "text/plain": [
       "<Figure size 432x288 with 1 Axes>"
      ]
     },
     "metadata": {
      "needs_background": "light"
     },
     "output_type": "display_data"
    }
   ],
   "source": [
    "plt.scatter(clean_city_data['Lat'],clean_city_data['Humidity'],color = 'blue',s=20, facecolor = \"steelblue\", edgecolor = \"black\")\n",
    "plt.title('City Latitude vs. Humidity',fontsize=(18));\n",
    "plt.xlim(-60,90)\n",
    "plt.ylabel('Humidity (%)',fontsize=(15));\n",
    "plt.xlabel('Latitude',fontsize=(15));\n",
    "\n",
    "# Save the plotted figure as .pngs\n",
    "plt.savefig(\"Images/City_Latitude_vs_Humidity.png\")\n",
    "\n",
    "plt.show()"
   ]
  },
  {
   "cell_type": "code",
   "execution_count": null,
   "metadata": {
    "scrolled": true
   },
   "outputs": [],
   "source": []
  },
  {
   "cell_type": "markdown",
   "metadata": {},
   "source": [
    "## Latitude vs. Cloudiness Plot"
   ]
  },
  {
   "cell_type": "code",
   "execution_count": 57,
   "metadata": {},
   "outputs": [
    {
     "data": {
      "image/png": "[encoded data removed]",
      "text/plain": [
       "<Figure size 432x288 with 1 Axes>"
      ]
     },
     "metadata": {
      "needs_background": "light"
     },
     "output_type": "display_data"
    }
   ],
   "source": [
    "plt.scatter(clean_city_data['Lat'],clean_city_data['Cloudiness'],color = 'blue',s=20, facecolor = \"steelblue\", edgecolor = \"black\")\n",
    "plt.title('City Latitude vs. Cloudiness',fontsize=(18));\n",
    "plt.xlim(-60,90)\n",
    "plt.ylabel('Cloudiness',fontsize=(15));\n",
    "plt.xlabel('Latitude',fontsize=(15));\n",
    "\n",
    "# Save the plotted figure as .pngs\n",
    "plt.savefig(\"Images/City_Latitude_vs_Cloudiness.png\")\n",
    "\n",
    "plt.show()"
   ]
  },
  {
   "cell_type": "code",
   "execution_count": null,
   "metadata": {},
   "outputs": [],
   "source": []
  },
  {
   "cell_type": "markdown",
   "metadata": {},
   "source": [
    "## Latitude vs. Wind Speed Plot"
   ]
  },
  {
   "cell_type": "code",
   "execution_count": 58,
   "metadata": {},
   "outputs": [
    {
     "data": {
      "image/png": "[encoded data removed]",
      "text/plain": [
       "<Figure size 432x288 with 1 Axes>"
      ]
     },
     "metadata": {
      "needs_background": "light"
     },
     "output_type": "display_data"
    }
   ],
   "source": [
    "plt.scatter(clean_city_data['Lat'],clean_city_data['Wind Speed'],color = 'blue',s=20, facecolor = \"steelblue\", edgecolor = \"black\")\n",
    "plt.title('City Latitude vs. Wind Speed',fontsize=(18));\n",
    "plt.xlim(-60,90)\n",
    "plt.ylabel('Wind Speed',fontsize=(15));\n",
    "plt.xlabel('Latitude',fontsize=(15));\n",
    "\n",
    "# Save the plotted figure as .pngs\n",
    "plt.savefig(\"Images/City_Latitude_vs_Wind_Speed.png\")\n",
    "\n",
    "plt.show()"
   ]
  },
  {
   "cell_type": "code",
   "execution_count": null,
   "metadata": {},
   "outputs": [],
   "source": []
  },
  {
   "cell_type": "markdown",
   "metadata": {},
   "source": [
    "## Linear Regression"
   ]
  },
  {
   "cell_type": "code",
   "execution_count": 59,
   "metadata": {},
   "outputs": [
    {
     "data": {
      "text/plain": [
       "City Name      object\n",
       "Lat           float64\n",
       "Lng           float64\n",
       "Max Temp      float64\n",
       "Humidity      float64\n",
       "Cloudiness    float64\n",
       "Wind Speed    float64\n",
       "Country        object\n",
       "Date          float64\n",
       "dtype: object"
      ]
     },
     "execution_count": 59,
     "metadata": {},
     "output_type": "execute_result"
    }
   ],
   "source": [
    "north_hemisphere=pd.DataFrame({})\n",
    "south_hemisphere=pd.DataFrame({})\n",
    "\n",
    "north_hemisphere = clean_city_data[clean_city_data['Lat'] >=0]\n",
    "north_hemisphere\n",
    "\n",
    "south_hemisphere = clean_city_data[clean_city_data['Lat'] <=0]\n",
    "south_hemisphere.dtypes"
   ]
  },
  {
   "cell_type": "markdown",
   "metadata": {},
   "source": [
    "####  Northern Hemisphere - Max Temp vs. Latitude Linear Regression"
   ]
  },
  {
   "cell_type": "code",
   "execution_count": 60,
   "metadata": {},
   "outputs": [
    {
     "name": "stdout",
     "output_type": "stream",
     "text": [
      "The r-value is 0.7125870321016827\n"
     ]
    },
    {
     "data": {
      "image/png": "[encoded data removed]",
      "text/plain": [
       "<Figure size 432x288 with 1 Axes>"
      ]
     },
     "metadata": {
      "needs_background": "light"
     },
     "output_type": "display_data"
    }
   ],
   "source": [
    "x_axis = north_hemisphere['Lat']\n",
    "y_axis = north_hemisphere[\"Max Temp\"]\n",
    "\n",
    "#R-value:\n",
    "corr=round(st.pearsonr(x_axis,y_axis)[0],2)\n",
    "\n",
    "\n",
    "#Plot\n",
    "(slope, intercept, rvalue, pvalue, stderr) = linregress(x_axis, y_axis)\n",
    "print(f\"The r-value is {rvalue**2}\")\n",
    "\n",
    "regress_values = x_axis * slope + intercept\n",
    "line_eq = \"y = \" + str(round(slope,2)) + \"x + \" + str(round(intercept,2))\n",
    "plt.scatter(x_axis,y_axis, facecolor = \"steelblue\", edgecolor = \"black\")\n",
    "plt.plot(x_axis,regress_values,\"r-\")\n",
    "plt.annotate(line_eq,(6,10),fontsize=15,color=\"red\")\n",
    "plt.title('City Latitude vs. Max Temperature',fontsize=(18))\n",
    "plt.ylabel('Max Temperature (F)')\n",
    "plt.xlabel('Latitude')\n",
    "\n",
    "# Save the plotted figure as .pngs\n",
    "plt.savefig(\"Images/Northern_Hemisphere_City_Latitude_vs_Max_Temperature.png\")\n",
    "\n",
    "plt.show()"
   ]
  },
  {
   "cell_type": "code",
   "execution_count": null,
   "metadata": {},
   "outputs": [],
   "source": []
  },
  {
   "cell_type": "markdown",
   "metadata": {},
   "source": [
    "####  Southern Hemisphere - Max Temp vs. Latitude Linear Regression"
   ]
  },
  {
   "cell_type": "code",
   "execution_count": 61,
   "metadata": {},
   "outputs": [
    {
     "name": "stdout",
     "output_type": "stream",
     "text": [
      "The r-value is 0.3259796656615064\n"
     ]
    },
    {
     "data": {
      "image/png": "[encoded data removed]",
      "text/plain": [
       "<Figure size 432x288 with 1 Axes>"
      ]
     },
     "metadata": {
      "needs_background": "light"
     },
     "output_type": "display_data"
    }
   ],
   "source": [
    "x_axis = south_hemisphere['Lat']\n",
    "y_axis = south_hemisphere[\"Max Temp\"]\n",
    "\n",
    "#R-value:\n",
    "#Plot\n",
    "(slope, intercept, rvalue, pvalue, stderr) = linregress(x_axis, y_axis)\n",
    "print(f\"The r-value is {rvalue**2}\")\n",
    "\n",
    "regress_values = x_axis * slope + intercept\n",
    "line_eq = \"y = \" + str(round(slope,2)) + \"x + \" + str(round(intercept,2))\n",
    "plt.scatter(x_axis,y_axis, facecolor = \"steelblue\", edgecolor = \"black\")\n",
    "plt.plot(x_axis,regress_values,\"r-\")\n",
    "plt.annotate(line_eq,(-40,90),fontsize=15,color=\"red\")\n",
    "plt.title('City Latitude vs. Max Temperature',fontsize=(18))\n",
    "plt.ylabel('Max Temperature (F)')\n",
    "plt.xlabel('Latitude')\n",
    "\n",
    "# Save the plotted figure as .pngs\n",
    "plt.savefig(\"Images/Southern_Hemisphere_City_Latitude_vs_Max_Temperature.png\")\n",
    "\n",
    "plt.show()"
   ]
  },
  {
   "cell_type": "code",
   "execution_count": null,
   "metadata": {},
   "outputs": [],
   "source": []
  },
  {
   "cell_type": "markdown",
   "metadata": {},
   "source": [
    "####  Northern Hemisphere - Humidity (%) vs. Latitude Linear Regression"
   ]
  },
  {
   "cell_type": "code",
   "execution_count": 62,
   "metadata": {},
   "outputs": [
    {
     "name": "stdout",
     "output_type": "stream",
     "text": [
      "The r-value is 0.3259796656615064\n"
     ]
    },
    {
     "data": {
      "image/png": "[encoded data removed]",
      "text/plain": [
       "<Figure size 432x288 with 1 Axes>"
      ]
     },
     "metadata": {
      "needs_background": "light"
     },
     "output_type": "display_data"
    }
   ],
   "source": [
    "x_axis = north_hemisphere['Lat']\n",
    "y_axis = north_hemisphere[\"Humidity\"]\n",
    "\n",
    "#R-value:\n",
    "print(f\"The r-value is {rvalue**2}\")\n",
    "\n",
    "#Plot\n",
    "(slope, intercept, rvalue, pvalue, stderr) = linregress(x_axis, y_axis)\n",
    "\n",
    "regress_values = x_axis * slope + intercept\n",
    "line_eq = \"y = \" + str(round(slope,2)) + \"x + \" + str(round(intercept,2))\n",
    "plt.scatter(x_axis,y_axis, facecolor = \"steelblue\", edgecolor = \"black\")\n",
    "plt.plot(x_axis,regress_values,\"r-\")\n",
    "plt.annotate(line_eq,(40,10),fontsize=15,color=\"red\")\n",
    "plt.title('City Latitude vs. Humidity',fontsize=(18))\n",
    "plt.ylabel('Humidity')\n",
    "plt.xlabel('Latitude')\n",
    "\n",
    "# Save the plotted figure as .pngs\n",
    "plt.savefig(\"Images/Northern_Hemisphere_City_Latitude_vs_Humidity.png\")\n",
    "\n",
    "plt.show()"
   ]
  },
  {
   "cell_type": "code",
   "execution_count": null,
   "metadata": {},
   "outputs": [],
   "source": []
  },
  {
   "cell_type": "markdown",
   "metadata": {},
   "source": [
    "####  Southern Hemisphere - Humidity (%) vs. Latitude Linear Regression"
   ]
  },
  {
   "cell_type": "code",
   "execution_count": 63,
   "metadata": {},
   "outputs": [
    {
     "name": "stdout",
     "output_type": "stream",
     "text": [
      "The r-value is 0.07079255761243765\n"
     ]
    },
    {
     "data": {
      "image/png": "[encoded data removed]",
      "text/plain": [
       "<Figure size 432x288 with 1 Axes>"
      ]
     },
     "metadata": {
      "needs_background": "light"
     },
     "output_type": "display_data"
    }
   ],
   "source": [
    "x_axis = south_hemisphere['Lat']\n",
    "y_axis = south_hemisphere[\"Humidity\"]\n",
    "\n",
    "#R-value:\n",
    "print(f\"The r-value is {rvalue**2}\")\n",
    "\n",
    "#Plot\n",
    "(slope, intercept, rvalue, pvalue, stderr) = linregress(x_axis, y_axis)\n",
    "\n",
    "regress_values = x_axis * slope + intercept\n",
    "line_eq = \"y = \" + str(round(slope,2)) + \"x + \" + str(round(intercept,2))\n",
    "plt.scatter(x_axis,y_axis, facecolor = \"steelblue\", edgecolor = \"black\")\n",
    "plt.plot(x_axis,regress_values,\"r-\")\n",
    "plt.annotate(line_eq,(-40,20),fontsize=15,color=\"red\")\n",
    "plt.title('City Latitude vs. Humidity',fontsize=(18))\n",
    "plt.ylabel('Humidity')\n",
    "plt.xlabel('Latitude')\n",
    "\n",
    "# Save the plotted figure as .pngs\n",
    "plt.savefig(\"Images/Southern_Hemisphere_City_Latitude_vs_Humidity.png\")\n",
    "\n",
    "plt.show()"
   ]
  },
  {
   "cell_type": "code",
   "execution_count": null,
   "metadata": {
    "scrolled": true
   },
   "outputs": [],
   "source": []
  },
  {
   "cell_type": "markdown",
   "metadata": {},
   "source": [
    "####  Northern Hemisphere - Cloudiness (%) vs. Latitude Linear Regression"
   ]
  },
  {
   "cell_type": "code",
   "execution_count": 64,
   "metadata": {},
   "outputs": [
    {
     "name": "stdout",
     "output_type": "stream",
     "text": [
      "The r-value is 0.001482247292106829\n"
     ]
    },
    {
     "data": {
      "image/png": "[encoded data removed]",
      "text/plain": [
       "<Figure size 432x288 with 1 Axes>"
      ]
     },
     "metadata": {
      "needs_background": "light"
     },
     "output_type": "display_data"
    }
   ],
   "source": [
    "x_axis = north_hemisphere['Lat']\n",
    "y_axis = north_hemisphere[\"Cloudiness\"]\n",
    "\n",
    "#R-value:\n",
    "print(f\"The r-value is {rvalue**2}\")\n",
    "\n",
    "#Plot\n",
    "(slope, intercept, rvalue, pvalue, stderr) = linregress(x_axis, y_axis)\n",
    "\n",
    "regress_values = x_axis * slope + intercept\n",
    "line_eq = \"y = \" + str(round(slope,2)) + \"x + \" + str(round(intercept,2))\n",
    "plt.scatter(x_axis,y_axis, facecolor = \"steelblue\", edgecolor = \"black\")\n",
    "plt.plot(x_axis,regress_values,\"r-\")\n",
    "plt.annotate(line_eq,(40,10),fontsize=15,color=\"red\")\n",
    "plt.title('City Latitude vs. Cloudiness',fontsize=(18))\n",
    "plt.ylabel('Cloudiness')\n",
    "plt.xlabel('Latitude')\n",
    "\n",
    "# Save the plotted figure as .pngs\n",
    "plt.savefig(\"Images/Northern_Hemisphere_City_Latitude_vs_Cloudiness.png\")\n",
    "\n",
    "plt.show()"
   ]
  },
  {
   "cell_type": "code",
   "execution_count": null,
   "metadata": {
    "scrolled": true
   },
   "outputs": [],
   "source": []
  },
  {
   "cell_type": "markdown",
   "metadata": {},
   "source": [
    "####  Southern Hemisphere - Cloudiness (%) vs. Latitude Linear Regression"
   ]
  },
  {
   "cell_type": "code",
   "execution_count": 65,
   "metadata": {},
   "outputs": [
    {
     "name": "stdout",
     "output_type": "stream",
     "text": [
      "The r-value is 0.049894046380367985\n"
     ]
    },
    {
     "data": {
      "image/png": "[encoded data removed]",
      "text/plain": [
       "<Figure size 432x288 with 1 Axes>"
      ]
     },
     "metadata": {
      "needs_background": "light"
     },
     "output_type": "display_data"
    }
   ],
   "source": [
    "x_axis = south_hemisphere['Lat']\n",
    "y_axis = south_hemisphere[\"Cloudiness\"]\n",
    "\n",
    "#R-value:\n",
    "print(f\"The r-value is {rvalue**2}\")\n",
    "\n",
    "#Plot\n",
    "(slope, intercept, rvalue, pvalue, stderr) = linregress(x_axis, y_axis)\n",
    "\n",
    "regress_values = x_axis * slope + intercept\n",
    "line_eq = \"y = \" + str(round(slope,2)) + \"x + \" + str(round(intercept,2))\n",
    "plt.scatter(x_axis,y_axis, facecolor = \"steelblue\", edgecolor = \"black\")\n",
    "plt.plot(x_axis,regress_values,\"r-\")\n",
    "plt.annotate(line_eq,(-40,15),fontsize=15,color=\"red\")\n",
    "plt.title('City Latitude vs. Cloudiness',fontsize=(18))\n",
    "plt.ylabel('Cloudiness')\n",
    "plt.xlabel('Latitude')\n",
    "\n",
    "# Save the plotted figure as .pngs\n",
    "plt.savefig(\"Images/Southern_Hemisphere_City_Latitude_vs_Cloudiness.png\")\n",
    "\n",
    "plt.show()"
   ]
  },
  {
   "cell_type": "code",
   "execution_count": null,
   "metadata": {
    "scrolled": true
   },
   "outputs": [],
   "source": []
  },
  {
   "cell_type": "markdown",
   "metadata": {},
   "source": [
    "####  Northern Hemisphere - Wind Speed (mph) vs. Latitude Linear Regression"
   ]
  },
  {
   "cell_type": "code",
   "execution_count": 66,
   "metadata": {},
   "outputs": [
    {
     "name": "stdout",
     "output_type": "stream",
     "text": [
      "The r-value is 0.01788939876094378\n"
     ]
    },
    {
     "data": {
      "image/png": "[encoded data removed]",
      "text/plain": [
       "<Figure size 432x288 with 1 Axes>"
      ]
     },
     "metadata": {
      "needs_background": "light"
     },
     "output_type": "display_data"
    }
   ],
   "source": [
    "x_axis = north_hemisphere['Lat']\n",
    "y_axis = north_hemisphere[\"Wind Speed\"]\n",
    "\n",
    "#R-value:\n",
    "print(f\"The r-value is {rvalue**2}\")\n",
    "\n",
    "#Plot\n",
    "(slope, intercept, rvalue, pvalue, stderr) = linregress(x_axis, y_axis)\n",
    "\n",
    "regress_values = x_axis * slope + intercept\n",
    "line_eq = \"y = \" + str(round(slope,2)) + \"x + \" + str(round(intercept,2))\n",
    "plt.scatter(x_axis,y_axis, facecolor = \"steelblue\", edgecolor = \"black\")\n",
    "plt.plot(x_axis,regress_values,\"r-\")\n",
    "plt.annotate(line_eq,(40,25),fontsize=15,color=\"red\")\n",
    "plt.title('City Latitude vs. Wind Speed',fontsize=(18))\n",
    "plt.ylabel('Wind Speed')\n",
    "plt.xlabel('Latitude')\n",
    "\n",
    "# Save the plotted figure as .pngs\n",
    "plt.savefig(\"Images/Northern_Hemisphere_City_Latitude_vs_Wind_Speed.png\")\n",
    "\n",
    "plt.show()"
   ]
  },
  {
   "cell_type": "code",
   "execution_count": null,
   "metadata": {
    "scrolled": true
   },
   "outputs": [],
   "source": []
  },
  {
   "cell_type": "markdown",
   "metadata": {},
   "source": [
    "####  Southern Hemisphere - Wind Speed (mph) vs. Latitude Linear Regression"
   ]
  },
  {
   "cell_type": "code",
   "execution_count": 67,
   "metadata": {
    "scrolled": true
   },
   "outputs": [
    {
     "name": "stdout",
     "output_type": "stream",
     "text": [
      "The r-value is 0.0012045058365510266\n"
     ]
    },
    {
     "data": {
      "image/png": "[encoded data removed]",
      "text/plain": [
       "<Figure size 432x288 with 1 Axes>"
      ]
     },
     "metadata": {
      "needs_background": "light"
     },
     "output_type": "display_data"
    }
   ],
   "source": [
    "x_axis = south_hemisphere['Lat']\n",
    "y_axis = south_hemisphere[\"Wind Speed\"]\n",
    "\n",
    "#R-value:\n",
    "print(f\"The r-value is {rvalue**2}\")\n",
    "\n",
    "#Plot\n",
    "(slope, intercept, rvalue, pvalue, stderr) = linregress(x_axis, y_axis)\n",
    "\n",
    "regress_values = x_axis * slope + intercept\n",
    "line_eq = \"y = \" + str(round(slope,2)) + \"x + \" + str(round(intercept,2))\n",
    "plt.scatter(x_axis,y_axis, facecolor = \"steelblue\", edgecolor = \"black\")\n",
    "plt.plot(x_axis,regress_values,\"r-\")\n",
    "plt.annotate(line_eq,(-40,20),fontsize=15,color=\"red\")\n",
    "plt.title('City Latitude vs. Wind Speed',fontsize=(18))\n",
    "plt.xlabel('Latitude')\n",
    "plt.ylabel('Wind Speed')\n",
    "\n",
    "# Save the plotted figure as .pngs\n",
    "plt.savefig(\"Images/Southern_Hemisphere_City_Latitude_vs_Wind_Speed.png\")\n",
    "\n",
    "plt.show()"
   ]
  },
  {
   "cell_type": "code",
   "execution_count": null,
   "metadata": {
    "scrolled": true
   },
   "outputs": [],
   "source": []
  }
 ],
 "metadata": {
  "anaconda-cloud": {},
  "kernel_info": {
   "name": "python3"
  },
  "kernelspec": {
   "display_name": "Python 3",
   "language": "python",
   "name": "python3"
  },
  "language_info": {
   "codemirror_mode": {
    "name": "ipython",
    "version": 3
   },
   "file_extension": ".py",
   "mimetype": "text/x-python",
   "name": "python",
   "nbconvert_exporter": "python",
   "pygments_lexer": "ipython3",
   "version": "3.6.12"
  },
  "latex_envs": {
   "LaTeX_envs_menu_present": true,
   "autoclose": false,
   "autocomplete": true,
   "bibliofile": "biblio.bib",
   "cite_by": "apalike",
   "current_citInitial": 1,
   "eqLabelWithNumbers": true,
   "eqNumInitial": 1,
   "hotkeys": {
    "equation": "Ctrl-E",
    "itemize": "Ctrl-I"
   },
   "labels_anchors": false,
   "latex_user_defs": false,
   "report_style_numbering": false,
   "user_envs_cfg": false
  },
  "nteract": {
   "version": "0.12.3"
  }
 },
 "nbformat": 4,
 "nbformat_minor": 2
}
